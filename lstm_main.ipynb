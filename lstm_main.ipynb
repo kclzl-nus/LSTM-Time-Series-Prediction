{
 "cells": [
  {
   "cell_type": "markdown",
   "metadata": {},
   "source": [
    "# LSTM\n",
    "\n",
    "1. LSTMUnit\n",
    "2. LSTMLayer\n",
    "3. LSTM"
   ]
  },
  {
   "cell_type": "code",
   "execution_count": 1,
   "metadata": {},
   "outputs": [],
   "source": [
    "# import relevant libraries\n",
    "import numpy as np\n",
    "import torch\n",
    "import torch.nn as nn\n",
    "import jax\n",
    "import jax.numpy as jnp\n",
    "import time\n",
    "from tqdm import tqdm"
   ]
  },
  {
   "cell_type": "markdown",
   "metadata": {},
   "source": [
    "**Terminologies**\n",
    "\n",
    "* batch_size: B\n",
    "* input_size: F\n",
    "* hidden_size: U\n",
    "* sequence_length: L\n",
    "\n",
    "* input vector x: dimensions (B, F)\n",
    "* hidden state vector v: dimesions (B, U)\n",
    "* cell state vector c: dimesnions (B, U)\n",
    "\n",
    "* input weight matrix W_ih: (F, 4U)\n",
    "* hidden weight matrix W_hh: (U, 4U)\n",
    "* bias weight vector: (1, 4U)"
   ]
  },
  {
   "cell_type": "markdown",
   "metadata": {},
   "source": [
    "## Define Helper Functions\n",
    "\n",
    "1. `sigmoid()`\n",
    "2. `tanh()`\n",
    "3. `LSTMUnit()`\n",
    "4. `LSTMLayer()`\n",
    "5. `LinearLayer()`\n",
    "6. `LSTMModel()`\n",
    "7. `loss()`\n",
    "8. `grad`\n",
    "9. `update()`"
   ]
  },
  {
   "cell_type": "code",
   "execution_count": 2,
   "metadata": {},
   "outputs": [],
   "source": [
    "# define sigmoid function\n",
    "def sigmoid(x):\n",
    "    return 1 / (1 + jnp.exp(-x))\n",
    "\n",
    "# define tanh function\n",
    "def tanh(x):\n",
    "    return jnp.tanh(x)"
   ]
  },
  {
   "cell_type": "code",
   "execution_count": 3,
   "metadata": {},
   "outputs": [],
   "source": [
    "# define LSTM Unit\n",
    "def LSTMUnit(params, x, h, c):\n",
    "    \"\"\"\n",
    "    Inputs\n",
    "    params: list of parameters, [W_ih, W_hh, b]\n",
    "    x: input, dim = (B, F)\n",
    "    h: hidden state, dim = (B, U)\n",
    "    c: cell state, dim = (B, U)\n",
    "\n",
    "    Outputs\n",
    "    h_next: next hidden state, dim = (B, U)\n",
    "    c_next: next cell state, dim = (B, U)\n",
    "    \"\"\"\n",
    "    W_ih = params[0] # dim = (F, 4U)\n",
    "    W_hh = params[1] # dim = (U, 4U)\n",
    "    b = params[2] # dim = (1, 4U)\n",
    "\n",
    "    # generate inputs to all the gates\n",
    "    gates_input = x @ W_ih + h @ W_hh + b # dim = (B, 4U)\n",
    "\n",
    "    # split the input to the gates\n",
    "    i, f, g, o = np.split(gates_input, 4, axis=1) # dim = (B, U)\n",
    "\n",
    "    # apply activation functions\n",
    "    i = sigmoid(i)\n",
    "    f = sigmoid(f)\n",
    "    g = tanh(g)\n",
    "    o = sigmoid(o)\n",
    "\n",
    "    # update the cell and hidden state\n",
    "    c_next = f * c + i * g\n",
    "    h_next = o * tanh(c_next)\n",
    "\n",
    "    return h_next, c_next"
   ]
  },
  {
   "cell_type": "code",
   "execution_count": 4,
   "metadata": {},
   "outputs": [],
   "source": [
    "def LSTMLayer(params, X, h, c):\n",
    "    \"\"\"\n",
    "    Inputs\n",
    "    params: list of parameters, [W_ih, W_hh, b]\n",
    "    X: input, dim = (L, B, F)\n",
    "    h: hidden state, dim = (B, U)\n",
    "    c: cell state, dim = (B, U)\n",
    "\n",
    "    Outputs\n",
    "    H: hidden states, dim = (L, B, U)\n",
    "    (hn, cn): last hidden and cell states, dim = ( (B, U), (B, U) ) --> optional\n",
    "    \"\"\"\n",
    "    H = jnp.zeros((X.shape[0], X.shape[1], h.shape[1])) # dim = (L, B, U)\n",
    "    for t in range(X.shape[0]):\n",
    "        h, c = LSTMUnit(params, X[t], h, c)\n",
    "        # use update H with jax.numpy\n",
    "        H = H.at[t].set(h)\n",
    "        # H[t] = h\n",
    "    # return H, (h, c)\n",
    "    return H"
   ]
  },
  {
   "cell_type": "code",
   "execution_count": 5,
   "metadata": {},
   "outputs": [
    {
     "name": "stdout",
     "output_type": "stream",
     "text": [
      "weight_ih_l0 torch.Size([24, 3])\n",
      "weight_hh_l0 torch.Size([24, 6])\n",
      "bias_ih_l0 torch.Size([24])\n",
      "bias_hh_l0 torch.Size([24])\n"
     ]
    }
   ],
   "source": [
    "# define model\n",
    "sequence_length = 5\n",
    "batch_size = 2\n",
    "input_size = 3\n",
    "hidden_size = 6\n",
    "\n",
    "model = nn.LSTM(input_size, hidden_size, num_layers=1, batch_first=True)\n",
    "\n",
    "# check weights of the model\n",
    "for name, param in model.named_parameters():\n",
    "    print(name, param.shape)"
   ]
  },
  {
   "cell_type": "code",
   "execution_count": 6,
   "metadata": {},
   "outputs": [
    {
     "name": "stdout",
     "output_type": "stream",
     "text": [
      "(3, 24)\n",
      "(6, 24)\n",
      "(24,)\n"
     ]
    }
   ],
   "source": [
    "# extract weights from the model\n",
    "W_ih = model.weight_ih_l0.detach().numpy().T\n",
    "W_hh = model.weight_hh_l0.detach().numpy().T\n",
    "b = model.bias_ih_l0.detach().numpy().T + model.bias_hh_l0.detach().numpy().T\n",
    "\n",
    "# print shapes of the parameters\n",
    "print(W_ih.shape)\n",
    "print(W_hh.shape)\n",
    "print(b.shape)"
   ]
  },
  {
   "cell_type": "code",
   "execution_count": 7,
   "metadata": {},
   "outputs": [
    {
     "name": "stdout",
     "output_type": "stream",
     "text": [
      "H shape: (5, 2, 6), H_torch shape: torch.Size([2, 5, 6])\n",
      "Difference between H, H_torch: 1.7166929922041163e-07\n"
     ]
    }
   ],
   "source": [
    "# test the model vs the custom implementation\n",
    "# generate random data first\n",
    "X = np.random.randn(sequence_length, batch_size, input_size).astype(np.float32)\n",
    "h0 = np.random.randn(1, batch_size, hidden_size).astype(np.float32)\n",
    "c0 = np.random.randn(1, batch_size, hidden_size).astype(np.float32)\n",
    "\n",
    "# run the custom model\n",
    "# H, (hn, cn) = LSTMLayer([W_ih, W_hh, b], X, h0[0], c0[0])\n",
    "H = LSTMLayer([W_ih, W_hh, b], X, h0[0], c0[0])\n",
    "\n",
    "# run the pytorch model\n",
    "# X_torch is dimensions (L, B, F), but the model expects (B, L, F)\n",
    "X_torch = torch.tensor(X.transpose(1, 0, 2))\n",
    "h0_torch = torch.tensor(h0)\n",
    "c0_torch = torch.tensor(c0)\n",
    "H_torch, (hn_torch, cn_torch) = model(X_torch, (h0_torch, c0_torch))\n",
    "\n",
    "# print difference in shape\n",
    "print(f'H shape: {H.shape}, H_torch shape: {H_torch.shape}')\n",
    "# print(f'hn shape: {hn.shape}, hn_torch shape: {hn_torch.shape}')\n",
    "# print(f'cn shape: {cn.shape}, cn_torch shape: {cn_torch.shape}\\n')\n",
    "print(f'Difference between H, H_torch: {np.linalg.norm(H.transpose(1, 0, 2) - H_torch.detach().numpy())}')\n",
    "# print(f'Difference between hn, hn_torch: {np.linalg.norm(hn - hn_torch.detach().numpy())}')\n",
    "# print(f'Difference between cn, cn_torch: {np.linalg.norm(cn - cn_torch.detach().numpy())}')"
   ]
  },
  {
   "cell_type": "code",
   "execution_count": 8,
   "metadata": {},
   "outputs": [],
   "source": [
    "# define linear model\n",
    "def LinearLayer(params, H):\n",
    "    \"\"\"\n",
    "    Inputs\n",
    "    params = [W_out, b_out], where W_out --> dim (U, 0), b_out --> dim (1, 0)\n",
    "    H: hidden states, dim = (L, B, U)\n",
    "\n",
    "    Output\n",
    "    y_out: output vector, dim = (B, O), where O is the output size\n",
    "    \"\"\"\n",
    "    W_out = params[0] # dim = (U, O)\n",
    "    b_out = params[1] # dim = (1, O)\n",
    "\n",
    "    # reshape the hidden states (L, B, U) -> (L*B, U)\n",
    "    H_reshaped = H.reshape(-1, H.shape[2]); # print(f'H_reshaped shape: {H_reshaped.shape}') # dim = (L*B, U)\n",
    "\n",
    "    # calculate the output\n",
    "    y_out = jnp.dot(H_reshaped, W_out) + b_out # dim = (L*B, O)\n",
    "    \n",
    "    return y_out"
   ]
  },
  {
   "cell_type": "code",
   "execution_count": 9,
   "metadata": {},
   "outputs": [],
   "source": [
    "# combine the LSTMLayer and LinearLayer\n",
    "def LSTMModel(params, X, h0, c0):\n",
    "    \"\"\"\n",
    "    Inputs\n",
    "    params = [W_ih, W_hh, b, W_out, b_out]\n",
    "    X: input, dim = (L, B, F)\n",
    "    h0: initial hidden state, dim = (B, U)\n",
    "    c0: initial cell state, dim = (B, U)\n",
    "\n",
    "    Output\n",
    "    y_out: output vector, dim = (B, O), where O is the output size\n",
    "    \"\"\"\n",
    "    W_ih = params[0]\n",
    "    W_hh = params[1]\n",
    "    b = params[2]\n",
    "    W_out = params[3]\n",
    "    b_out = params[4]\n",
    "\n",
    "    # H, (hn, cn) = LSTMLayer([W_ih, W_hh, b], X, h0, c0)\n",
    "    H = LSTMLayer([W_ih, W_hh, b], X, h0, c0)\n",
    "    y_out = LinearLayer([W_out, b_out], H)\n",
    "\n",
    "    return y_out"
   ]
  },
  {
   "cell_type": "code",
   "execution_count": 33,
   "metadata": {},
   "outputs": [],
   "source": [
    "# create loss function\n",
    "@jax.jit\n",
    "def local_loss(params, X, y, h0, c0):\n",
    "    y_pred = LSTMModel(params, X, h0, c0)\n",
    "    return jnp.mean((y - y_pred) ** 2)\n",
    "\n",
    "loss_all = jax.vmap(local_loss, in_axes=(None, 1, 1, None, None))\n",
    "\n",
    "def loss(params, X, y, h0, c0):\n",
    "    \"\"\"\n",
    "    Inputs\n",
    "    params = [W_ih, W_hh, b, W_out, b_out]\n",
    "    X = batch of inputs. i.e. train_X dim = (B, L*F) convert to (L, B, F)\n",
    "    y = batch of true labels i.e. train_y dime = (B, L*F) convert to (L, B, F)\n",
    "    \"\"\"\n",
    "    return jnp.mean(loss_all(params, X, y, h0, c0))\n",
    "\n",
    "# create gradient function\n",
    "grad = jax.grad(loss)\n",
    "\n",
    "@jax.jit\n",
    "def update(params, X, y, h0, c0):\n",
    "    grads = grad(params, X, y, h0, c0)\n",
    "    return [w - lr * dw for w, dw in zip(params, grads)]"
   ]
  },
  {
   "cell_type": "code",
   "execution_count": 34,
   "metadata": {},
   "outputs": [
    {
     "name": "stdout",
     "output_type": "stream",
     "text": [
      "local_loss: 1.1410973072052002\n"
     ]
    },
    {
     "ename": "ValueError",
     "evalue": "Incompatible shapes for broadcasting: (10, 5) and requested shape (1, 5)",
     "output_type": "error",
     "traceback": [
      "\u001b[0;31m---------------------------------------------------------------------------\u001b[0m",
      "\u001b[0;31mValueError\u001b[0m                                Traceback (most recent call last)",
      "Cell \u001b[0;32mIn[34], line 41\u001b[0m\n\u001b[1;32m     39\u001b[0m convert_t_y \u001b[38;5;241m=\u001b[39m t_y\u001b[38;5;241m.\u001b[39mreshape(batch_size, sequence_length, output_size) \u001b[38;5;66;03m# dim = (B, L, O)\u001b[39;00m\n\u001b[1;32m     40\u001b[0m \u001b[38;5;66;03m# run the loss function\u001b[39;00m\n\u001b[0;32m---> 41\u001b[0m loss \u001b[38;5;241m=\u001b[39m \u001b[43mloss\u001b[49m\u001b[43m(\u001b[49m\u001b[43m[\u001b[49m\u001b[43mW_ih\u001b[49m\u001b[43m,\u001b[49m\u001b[43m \u001b[49m\u001b[43mW_hh\u001b[49m\u001b[43m,\u001b[49m\u001b[43m \u001b[49m\u001b[43mb\u001b[49m\u001b[43m,\u001b[49m\u001b[43m \u001b[49m\u001b[43mW_out\u001b[49m\u001b[43m,\u001b[49m\u001b[43m \u001b[49m\u001b[43mb_out\u001b[49m\u001b[43m]\u001b[49m\u001b[43m,\u001b[49m\u001b[43m \u001b[49m\u001b[43mconvert_t_x\u001b[49m\u001b[43m,\u001b[49m\u001b[43m \u001b[49m\u001b[43mconvert_t_y\u001b[49m\u001b[43m,\u001b[49m\u001b[43m \u001b[49m\u001b[43mh0\u001b[49m\u001b[43m[\u001b[49m\u001b[38;5;241;43m0\u001b[39;49m\u001b[43m]\u001b[49m\u001b[43m,\u001b[49m\u001b[43m \u001b[49m\u001b[43mc0\u001b[49m\u001b[43m[\u001b[49m\u001b[38;5;241;43m0\u001b[39;49m\u001b[43m]\u001b[49m\u001b[43m)\u001b[49m\n\u001b[1;32m     42\u001b[0m \u001b[38;5;28mprint\u001b[39m(\u001b[38;5;124mf\u001b[39m\u001b[38;5;124m'\u001b[39m\u001b[38;5;124mloss: \u001b[39m\u001b[38;5;132;01m{\u001b[39;00mloss\u001b[38;5;132;01m}\u001b[39;00m\u001b[38;5;124m'\u001b[39m)\n\u001b[1;32m     44\u001b[0m \u001b[38;5;66;03m# test the update function\u001b[39;00m\n",
      "Cell \u001b[0;32mIn[33], line 16\u001b[0m, in \u001b[0;36mloss\u001b[0;34m(params, X, y, h0, c0)\u001b[0m\n\u001b[1;32m      9\u001b[0m \u001b[38;5;28;01mdef\u001b[39;00m \u001b[38;5;21mloss\u001b[39m(params, X, y, h0, c0):\n\u001b[1;32m     10\u001b[0m \u001b[38;5;250m    \u001b[39m\u001b[38;5;124;03m\"\"\"\u001b[39;00m\n\u001b[1;32m     11\u001b[0m \u001b[38;5;124;03m    Inputs\u001b[39;00m\n\u001b[1;32m     12\u001b[0m \u001b[38;5;124;03m    params = [W_ih, W_hh, b, W_out, b_out]\u001b[39;00m\n\u001b[1;32m     13\u001b[0m \u001b[38;5;124;03m    X = batch of inputs. i.e. train_X dim = (N, L*F) convert to (L, N, F)\u001b[39;00m\n\u001b[1;32m     14\u001b[0m \u001b[38;5;124;03m    y = batch of true labels i.e. train_y dime = (N, L*F) convert to (L, N, F)\u001b[39;00m\n\u001b[1;32m     15\u001b[0m \u001b[38;5;124;03m    \"\"\"\u001b[39;00m\n\u001b[0;32m---> 16\u001b[0m     \u001b[38;5;28;01mreturn\u001b[39;00m jnp\u001b[38;5;241m.\u001b[39mmean(\u001b[43mloss_all\u001b[49m\u001b[43m(\u001b[49m\u001b[43mparams\u001b[49m\u001b[43m,\u001b[49m\u001b[43m \u001b[49m\u001b[43mX\u001b[49m\u001b[43m,\u001b[49m\u001b[43m \u001b[49m\u001b[43my\u001b[49m\u001b[43m,\u001b[49m\u001b[43m \u001b[49m\u001b[43mh0\u001b[49m\u001b[43m,\u001b[49m\u001b[43m \u001b[49m\u001b[43mc0\u001b[49m\u001b[43m)\u001b[49m)\n",
      "    \u001b[0;31m[... skipping hidden 15 frame]\u001b[0m\n",
      "Cell \u001b[0;32mIn[33], line 4\u001b[0m, in \u001b[0;36mlocal_loss\u001b[0;34m(params, X, y, h0, c0)\u001b[0m\n\u001b[1;32m      2\u001b[0m \u001b[38;5;129m@jax\u001b[39m\u001b[38;5;241m.\u001b[39mjit\n\u001b[1;32m      3\u001b[0m \u001b[38;5;28;01mdef\u001b[39;00m \u001b[38;5;21mlocal_loss\u001b[39m(params, X, y, h0, c0):\n\u001b[0;32m----> 4\u001b[0m     y_pred \u001b[38;5;241m=\u001b[39m \u001b[43mLSTMModel\u001b[49m\u001b[43m(\u001b[49m\u001b[43mparams\u001b[49m\u001b[43m,\u001b[49m\u001b[43m \u001b[49m\u001b[43mX\u001b[49m\u001b[43m,\u001b[49m\u001b[43m \u001b[49m\u001b[43mh0\u001b[49m\u001b[43m,\u001b[49m\u001b[43m \u001b[49m\u001b[43mc0\u001b[49m\u001b[43m)\u001b[49m\n\u001b[1;32m      5\u001b[0m     \u001b[38;5;28;01mreturn\u001b[39;00m jnp\u001b[38;5;241m.\u001b[39mmean((y \u001b[38;5;241m-\u001b[39m y_pred) \u001b[38;5;241m*\u001b[39m\u001b[38;5;241m*\u001b[39m \u001b[38;5;241m2\u001b[39m)\n",
      "Cell \u001b[0;32mIn[9], line 20\u001b[0m, in \u001b[0;36mLSTMModel\u001b[0;34m(params, X, h0, c0)\u001b[0m\n\u001b[1;32m     17\u001b[0m b_out \u001b[38;5;241m=\u001b[39m params[\u001b[38;5;241m4\u001b[39m]\n\u001b[1;32m     19\u001b[0m \u001b[38;5;66;03m# H, (hn, cn) = LSTMLayer([W_ih, W_hh, b], X, h0, c0)\u001b[39;00m\n\u001b[0;32m---> 20\u001b[0m H \u001b[38;5;241m=\u001b[39m \u001b[43mLSTMLayer\u001b[49m\u001b[43m(\u001b[49m\u001b[43m[\u001b[49m\u001b[43mW_ih\u001b[49m\u001b[43m,\u001b[49m\u001b[43m \u001b[49m\u001b[43mW_hh\u001b[49m\u001b[43m,\u001b[49m\u001b[43m \u001b[49m\u001b[43mb\u001b[49m\u001b[43m]\u001b[49m\u001b[43m,\u001b[49m\u001b[43m \u001b[49m\u001b[43mX\u001b[49m\u001b[43m,\u001b[49m\u001b[43m \u001b[49m\u001b[43mh0\u001b[49m\u001b[43m,\u001b[49m\u001b[43m \u001b[49m\u001b[43mc0\u001b[49m\u001b[43m)\u001b[49m\n\u001b[1;32m     21\u001b[0m y_out \u001b[38;5;241m=\u001b[39m LinearLayer([W_out, b_out], H)\n\u001b[1;32m     23\u001b[0m \u001b[38;5;28;01mreturn\u001b[39;00m y_out\n",
      "Cell \u001b[0;32mIn[4], line 17\u001b[0m, in \u001b[0;36mLSTMLayer\u001b[0;34m(params, X, h, c)\u001b[0m\n\u001b[1;32m     15\u001b[0m     h, c \u001b[38;5;241m=\u001b[39m LSTMUnit(params, X[t], h, c)\n\u001b[1;32m     16\u001b[0m     \u001b[38;5;66;03m# use update H with jax.numpy\u001b[39;00m\n\u001b[0;32m---> 17\u001b[0m     H \u001b[38;5;241m=\u001b[39m \u001b[43mH\u001b[49m\u001b[38;5;241;43m.\u001b[39;49m\u001b[43mat\u001b[49m\u001b[43m[\u001b[49m\u001b[43mt\u001b[49m\u001b[43m]\u001b[49m\u001b[38;5;241;43m.\u001b[39;49m\u001b[43mset\u001b[49m\u001b[43m(\u001b[49m\u001b[43mh\u001b[49m\u001b[43m)\u001b[49m\n\u001b[1;32m     18\u001b[0m     \u001b[38;5;66;03m# H[t] = h\u001b[39;00m\n\u001b[1;32m     19\u001b[0m \u001b[38;5;66;03m# return H, (h, c)\u001b[39;00m\n\u001b[1;32m     20\u001b[0m \u001b[38;5;28;01mreturn\u001b[39;00m H\n",
      "File \u001b[0;32m~/Documents/Y4S1/DSA4212/LSTM/.lstmvenv/lib/python3.8/site-packages/jax/_src/numpy/array_methods.py:485\u001b[0m, in \u001b[0;36mallow_pass_by_position_with_warning.<locals>.wrapped\u001b[0;34m(*args, **kwargs)\u001b[0m\n\u001b[1;32m    483\u001b[0m   \u001b[38;5;28;01mreturn\u001b[39;00m f(\u001b[38;5;241m*\u001b[39margs[:n_positional], \u001b[38;5;241m*\u001b[39m\u001b[38;5;241m*\u001b[39mconverted_kwargs, \u001b[38;5;241m*\u001b[39m\u001b[38;5;241m*\u001b[39mkwargs)\n\u001b[1;32m    484\u001b[0m \u001b[38;5;28;01melse\u001b[39;00m:\n\u001b[0;32m--> 485\u001b[0m   \u001b[38;5;28;01mreturn\u001b[39;00m \u001b[43mf\u001b[49m\u001b[43m(\u001b[49m\u001b[38;5;241;43m*\u001b[39;49m\u001b[43margs\u001b[49m\u001b[43m,\u001b[49m\u001b[43m \u001b[49m\u001b[38;5;241;43m*\u001b[39;49m\u001b[38;5;241;43m*\u001b[39;49m\u001b[43mkwargs\u001b[49m\u001b[43m)\u001b[49m\n",
      "File \u001b[0;32m~/Documents/Y4S1/DSA4212/LSTM/.lstmvenv/lib/python3.8/site-packages/jax/_src/numpy/array_methods.py:532\u001b[0m, in \u001b[0;36m_IndexUpdateRef.set\u001b[0;34m(self, values, indices_are_sorted, unique_indices, mode)\u001b[0m\n\u001b[1;32m    522\u001b[0m \u001b[38;5;129m@allow_pass_by_position_with_warning\u001b[39m\n\u001b[1;32m    523\u001b[0m \u001b[38;5;28;01mdef\u001b[39;00m \u001b[38;5;21mset\u001b[39m(\u001b[38;5;28mself\u001b[39m, values, \u001b[38;5;241m*\u001b[39m, indices_are_sorted\u001b[38;5;241m=\u001b[39m\u001b[38;5;28;01mFalse\u001b[39;00m, unique_indices\u001b[38;5;241m=\u001b[39m\u001b[38;5;28;01mFalse\u001b[39;00m,\n\u001b[1;32m    524\u001b[0m         mode\u001b[38;5;241m=\u001b[39m\u001b[38;5;28;01mNone\u001b[39;00m):\n\u001b[1;32m    525\u001b[0m \u001b[38;5;250m  \u001b[39m\u001b[38;5;124;03m\"\"\"Pure equivalent of ``x[idx] = y``.\u001b[39;00m\n\u001b[1;32m    526\u001b[0m \n\u001b[1;32m    527\u001b[0m \u001b[38;5;124;03m  Returns the value of ``x`` that would result from the NumPy-style\u001b[39;00m\n\u001b[0;32m   (...)\u001b[0m\n\u001b[1;32m    530\u001b[0m \u001b[38;5;124;03m  See :mod:`jax.ops` for details.\u001b[39;00m\n\u001b[1;32m    531\u001b[0m \u001b[38;5;124;03m  \"\"\"\u001b[39;00m\n\u001b[0;32m--> 532\u001b[0m   \u001b[38;5;28;01mreturn\u001b[39;00m \u001b[43mscatter\u001b[49m\u001b[38;5;241;43m.\u001b[39;49m\u001b[43m_scatter_update\u001b[49m\u001b[43m(\u001b[49m\u001b[38;5;28;43mself\u001b[39;49m\u001b[38;5;241;43m.\u001b[39;49m\u001b[43marray\u001b[49m\u001b[43m,\u001b[49m\u001b[43m \u001b[49m\u001b[38;5;28;43mself\u001b[39;49m\u001b[38;5;241;43m.\u001b[39;49m\u001b[43mindex\u001b[49m\u001b[43m,\u001b[49m\u001b[43m \u001b[49m\u001b[43mvalues\u001b[49m\u001b[43m,\u001b[49m\u001b[43m \u001b[49m\u001b[43mlax\u001b[49m\u001b[38;5;241;43m.\u001b[39;49m\u001b[43mscatter\u001b[49m\u001b[43m,\u001b[49m\n\u001b[1;32m    533\u001b[0m \u001b[43m                                 \u001b[49m\u001b[43mindices_are_sorted\u001b[49m\u001b[38;5;241;43m=\u001b[39;49m\u001b[43mindices_are_sorted\u001b[49m\u001b[43m,\u001b[49m\n\u001b[1;32m    534\u001b[0m \u001b[43m                                 \u001b[49m\u001b[43munique_indices\u001b[49m\u001b[38;5;241;43m=\u001b[39;49m\u001b[43munique_indices\u001b[49m\u001b[43m,\u001b[49m\u001b[43m \u001b[49m\u001b[43mmode\u001b[49m\u001b[38;5;241;43m=\u001b[39;49m\u001b[43mmode\u001b[49m\u001b[43m)\u001b[49m\n",
      "File \u001b[0;32m~/Documents/Y4S1/DSA4212/LSTM/.lstmvenv/lib/python3.8/site-packages/jax/_src/ops/scatter.py:76\u001b[0m, in \u001b[0;36m_scatter_update\u001b[0;34m(x, idx, y, scatter_op, indices_are_sorted, unique_indices, mode, normalize_indices)\u001b[0m\n\u001b[1;32m     73\u001b[0m \u001b[38;5;66;03m# XLA gathers and scatters are very similar in structure; the scatter logic\u001b[39;00m\n\u001b[1;32m     74\u001b[0m \u001b[38;5;66;03m# is more or less a transpose of the gather equivalent.\u001b[39;00m\n\u001b[1;32m     75\u001b[0m treedef, static_idx, dynamic_idx \u001b[38;5;241m=\u001b[39m jnp\u001b[38;5;241m.\u001b[39m_split_index_for_jit(idx, x\u001b[38;5;241m.\u001b[39mshape)\n\u001b[0;32m---> 76\u001b[0m \u001b[38;5;28;01mreturn\u001b[39;00m \u001b[43m_scatter_impl\u001b[49m\u001b[43m(\u001b[49m\u001b[43mx\u001b[49m\u001b[43m,\u001b[49m\u001b[43m \u001b[49m\u001b[43my\u001b[49m\u001b[43m,\u001b[49m\u001b[43m \u001b[49m\u001b[43mscatter_op\u001b[49m\u001b[43m,\u001b[49m\u001b[43m \u001b[49m\u001b[43mtreedef\u001b[49m\u001b[43m,\u001b[49m\u001b[43m \u001b[49m\u001b[43mstatic_idx\u001b[49m\u001b[43m,\u001b[49m\u001b[43m \u001b[49m\u001b[43mdynamic_idx\u001b[49m\u001b[43m,\u001b[49m\n\u001b[1;32m     77\u001b[0m \u001b[43m                     \u001b[49m\u001b[43mindices_are_sorted\u001b[49m\u001b[43m,\u001b[49m\u001b[43m \u001b[49m\u001b[43munique_indices\u001b[49m\u001b[43m,\u001b[49m\u001b[43m \u001b[49m\u001b[43mmode\u001b[49m\u001b[43m,\u001b[49m\n\u001b[1;32m     78\u001b[0m \u001b[43m                     \u001b[49m\u001b[43mnormalize_indices\u001b[49m\u001b[43m)\u001b[49m\n",
      "File \u001b[0;32m~/Documents/Y4S1/DSA4212/LSTM/.lstmvenv/lib/python3.8/site-packages/jax/_src/ops/scatter.py:109\u001b[0m, in \u001b[0;36m_scatter_impl\u001b[0;34m(x, y, scatter_op, treedef, static_idx, dynamic_idx, indices_are_sorted, unique_indices, mode, normalize_indices)\u001b[0m\n\u001b[1;32m    106\u001b[0m x, y \u001b[38;5;241m=\u001b[39m promote_dtypes(x, y)\n\u001b[1;32m    108\u001b[0m \u001b[38;5;66;03m# Broadcast `y` to the slice output shape.\u001b[39;00m\n\u001b[0;32m--> 109\u001b[0m y \u001b[38;5;241m=\u001b[39m \u001b[43mjnp\u001b[49m\u001b[38;5;241;43m.\u001b[39;49m\u001b[43mbroadcast_to\u001b[49m\u001b[43m(\u001b[49m\u001b[43my\u001b[49m\u001b[43m,\u001b[49m\u001b[43m \u001b[49m\u001b[38;5;28;43mtuple\u001b[39;49m\u001b[43m(\u001b[49m\u001b[43mindexer\u001b[49m\u001b[38;5;241;43m.\u001b[39;49m\u001b[43mslice_shape\u001b[49m\u001b[43m)\u001b[49m\u001b[43m)\u001b[49m\n\u001b[1;32m    110\u001b[0m \u001b[38;5;66;03m# Collapse any `None`/`jnp.newaxis` dimensions.\u001b[39;00m\n\u001b[1;32m    111\u001b[0m y \u001b[38;5;241m=\u001b[39m jnp\u001b[38;5;241m.\u001b[39msqueeze(y, axis\u001b[38;5;241m=\u001b[39mindexer\u001b[38;5;241m.\u001b[39mnewaxis_dims)\n",
      "File \u001b[0;32m~/Documents/Y4S1/DSA4212/LSTM/.lstmvenv/lib/python3.8/site-packages/jax/_src/numpy/lax_numpy.py:1173\u001b[0m, in \u001b[0;36mbroadcast_to\u001b[0;34m(array, shape)\u001b[0m\n\u001b[1;32m   1169\u001b[0m \u001b[38;5;129m@util\u001b[39m\u001b[38;5;241m.\u001b[39m_wraps(np\u001b[38;5;241m.\u001b[39mbroadcast_to, lax_description\u001b[38;5;241m=\u001b[39m\u001b[38;5;124m\"\"\"\u001b[39m\u001b[38;5;130;01m\\\u001b[39;00m\n\u001b[1;32m   1170\u001b[0m \u001b[38;5;124mThe JAX version does not necessarily return a view of the input.\u001b[39m\n\u001b[1;32m   1171\u001b[0m \u001b[38;5;124m\"\"\"\u001b[39m)\n\u001b[1;32m   1172\u001b[0m \u001b[38;5;28;01mdef\u001b[39;00m \u001b[38;5;21mbroadcast_to\u001b[39m(array: ArrayLike, shape: Shape) \u001b[38;5;241m-\u001b[39m\u001b[38;5;241m>\u001b[39m Array:\n\u001b[0;32m-> 1173\u001b[0m   \u001b[38;5;28;01mreturn\u001b[39;00m \u001b[43mutil\u001b[49m\u001b[38;5;241;43m.\u001b[39;49m\u001b[43m_broadcast_to\u001b[49m\u001b[43m(\u001b[49m\u001b[43marray\u001b[49m\u001b[43m,\u001b[49m\u001b[43m \u001b[49m\u001b[43mshape\u001b[49m\u001b[43m)\u001b[49m\n",
      "File \u001b[0;32m~/Documents/Y4S1/DSA4212/LSTM/.lstmvenv/lib/python3.8/site-packages/jax/_src/numpy/util.py:401\u001b[0m, in \u001b[0;36m_broadcast_to\u001b[0;34m(arr, shape)\u001b[0m\n\u001b[1;32m    399\u001b[0m \u001b[38;5;28;01mif\u001b[39;00m nlead \u001b[38;5;241m<\u001b[39m \u001b[38;5;241m0\u001b[39m \u001b[38;5;129;01mor\u001b[39;00m \u001b[38;5;129;01mnot\u001b[39;00m compatible:\n\u001b[1;32m    400\u001b[0m   msg \u001b[38;5;241m=\u001b[39m \u001b[38;5;124m\"\u001b[39m\u001b[38;5;124mIncompatible shapes for broadcasting: \u001b[39m\u001b[38;5;132;01m{}\u001b[39;00m\u001b[38;5;124m and requested shape \u001b[39m\u001b[38;5;132;01m{}\u001b[39;00m\u001b[38;5;124m\"\u001b[39m\n\u001b[0;32m--> 401\u001b[0m   \u001b[38;5;28;01mraise\u001b[39;00m \u001b[38;5;167;01mValueError\u001b[39;00m(msg\u001b[38;5;241m.\u001b[39mformat(arr_shape, shape))\n\u001b[1;32m    402\u001b[0m diff, \u001b[38;5;241m=\u001b[39m np\u001b[38;5;241m.\u001b[39mwhere(\u001b[38;5;28mtuple\u001b[39m(\u001b[38;5;129;01mnot\u001b[39;00m core\u001b[38;5;241m.\u001b[39msymbolic_equal_dim(arr_d, shape_d)\n\u001b[1;32m    403\u001b[0m                        \u001b[38;5;28;01mfor\u001b[39;00m arr_d, shape_d \u001b[38;5;129;01min\u001b[39;00m safe_zip(arr_shape, shape_tail)))\n\u001b[1;32m    404\u001b[0m new_dims \u001b[38;5;241m=\u001b[39m \u001b[38;5;28mtuple\u001b[39m(\u001b[38;5;28mrange\u001b[39m(nlead)) \u001b[38;5;241m+\u001b[39m \u001b[38;5;28mtuple\u001b[39m(nlead \u001b[38;5;241m+\u001b[39m diff)\n",
      "\u001b[0;31mValueError\u001b[0m: Incompatible shapes for broadcasting: (10, 5) and requested shape (1, 5)"
     ]
    }
   ],
   "source": [
    "# test the model\n",
    "# generate random data first\n",
    "sequence_length = 12\n",
    "batch_size = 10\n",
    "input_size = 1\n",
    "hidden_size = 5\n",
    "output_size = 1\n",
    "lr = 0.01\n",
    "\n",
    "X = np.random.randn(sequence_length, batch_size, input_size).astype(np.float32) # dim = (L, B, F)\n",
    "h0 = np.random.randn(1, batch_size, hidden_size).astype(np.float32) # dim = (B, U)\n",
    "c0 = np.random.randn(1, batch_size, hidden_size).astype(np.float32) # dim = (B, U)\n",
    "\n",
    "# generate random parameters\n",
    "W_ih = np.random.randn(input_size, 4*hidden_size).astype(np.float32) # dim = (F, 4U)\n",
    "W_hh = np.random.randn(hidden_size, 4*hidden_size).astype(np.float32) # dim = (U, 4U)\n",
    "b = np.random.randn(1, 4*hidden_size).astype(np.float32) # dim = (1, 4U)\n",
    "W_out = np.random.randn(hidden_size, output_size).astype(np.float32) # dim = (U, O)\n",
    "b_out = np.random.randn(1, output_size).astype(np.float32) # dim = (1, O)\n",
    "\n",
    "# run the custom model\n",
    "y_out = LSTMModel([W_ih, W_hh, b, W_out, b_out], X, h0[0], c0[0])\n",
    "\n",
    "# print the output\n",
    "# print(f'y_out shape: {y_out.shape}')\n",
    "\n",
    "# test the local loss function\n",
    "y_true = np.random.randn(batch_size*sequence_length, output_size).astype(np.float32) # dim = (B, O)\n",
    "local_loss = local_loss([W_ih, W_hh, b, W_out, b_out], X, y_true, h0[0], c0[0])\n",
    "print(f'local_loss: {local_loss}')\n",
    "\n",
    "# test the loss function\n",
    "# generate random data first\n",
    "# t_X will be of shape (N, L*F), but need convert to (L, N, F), where N is length of t_X\n",
    "t_X = np.random.randn(batch_size, sequence_length*input_size).astype(np.float32) # dim = (B, L*F)\n",
    "convert_t_x = t_X.reshape(batch_size, sequence_length, input_size) # dim = (B, L, F)\n",
    "# similarly for t_y\n",
    "t_y = np.random.randn(batch_size, sequence_length*output_size).astype(np.float32) # dim = (B, L*O)\n",
    "convert_t_y = t_y.reshape(batch_size, sequence_length, output_size) # dim = (B, L, O)\n",
    "# run the loss function\n",
    "loss = loss([W_ih, W_hh, b, W_out, b_out], convert_t_x, convert_t_y, h0[0], c0[0])\n",
    "print(f'loss: {loss}')\n",
    "\n",
    "# test the update function\n",
    "params = [W_ih, W_hh, b, W_out, b_out]\n",
    "params = update(params, convert_t_x, convert_t_y, h0[0], c0[0])\n",
    "\n",
    "# print shape of updated params\n",
    "for param in params:\n",
    "    print(param.shape)"
   ]
  },
  {
   "cell_type": "markdown",
   "metadata": {},
   "source": [
    "## Model"
   ]
  },
  {
   "cell_type": "markdown",
   "metadata": {},
   "source": [
    "### Read Data"
   ]
  },
  {
   "cell_type": "code",
   "execution_count": 13,
   "metadata": {},
   "outputs": [],
   "source": [
    "# import data\n",
    "import pandas as pd\n",
    "import matplotlib.pyplot as plt"
   ]
  },
  {
   "cell_type": "code",
   "execution_count": 14,
   "metadata": {},
   "outputs": [
    {
     "name": "stdout",
     "output_type": "stream",
     "text": [
      "(3192, 9)\n"
     ]
    },
    {
     "data": {
      "text/html": [
       "<div>\n",
       "<style scoped>\n",
       "    .dataframe tbody tr th:only-of-type {\n",
       "        vertical-align: middle;\n",
       "    }\n",
       "\n",
       "    .dataframe tbody tr th {\n",
       "        vertical-align: top;\n",
       "    }\n",
       "\n",
       "    .dataframe thead th {\n",
       "        text-align: right;\n",
       "    }\n",
       "</style>\n",
       "<table border=\"1\" class=\"dataframe\">\n",
       "  <thead>\n",
       "    <tr style=\"text-align: right;\">\n",
       "      <th></th>\n",
       "      <th>dt</th>\n",
       "      <th>LandAverageTemperature</th>\n",
       "      <th>LandAverageTemperatureUncertainty</th>\n",
       "      <th>LandMaxTemperature</th>\n",
       "      <th>LandMaxTemperatureUncertainty</th>\n",
       "      <th>LandMinTemperature</th>\n",
       "      <th>LandMinTemperatureUncertainty</th>\n",
       "      <th>LandAndOceanAverageTemperature</th>\n",
       "      <th>LandAndOceanAverageTemperatureUncertainty</th>\n",
       "    </tr>\n",
       "  </thead>\n",
       "  <tbody>\n",
       "    <tr>\n",
       "      <th>0</th>\n",
       "      <td>1750-01-01</td>\n",
       "      <td>3.034</td>\n",
       "      <td>3.574</td>\n",
       "      <td>NaN</td>\n",
       "      <td>NaN</td>\n",
       "      <td>NaN</td>\n",
       "      <td>NaN</td>\n",
       "      <td>NaN</td>\n",
       "      <td>NaN</td>\n",
       "    </tr>\n",
       "    <tr>\n",
       "      <th>1</th>\n",
       "      <td>1750-02-01</td>\n",
       "      <td>3.083</td>\n",
       "      <td>3.702</td>\n",
       "      <td>NaN</td>\n",
       "      <td>NaN</td>\n",
       "      <td>NaN</td>\n",
       "      <td>NaN</td>\n",
       "      <td>NaN</td>\n",
       "      <td>NaN</td>\n",
       "    </tr>\n",
       "    <tr>\n",
       "      <th>2</th>\n",
       "      <td>1750-03-01</td>\n",
       "      <td>5.626</td>\n",
       "      <td>3.076</td>\n",
       "      <td>NaN</td>\n",
       "      <td>NaN</td>\n",
       "      <td>NaN</td>\n",
       "      <td>NaN</td>\n",
       "      <td>NaN</td>\n",
       "      <td>NaN</td>\n",
       "    </tr>\n",
       "    <tr>\n",
       "      <th>3</th>\n",
       "      <td>1750-04-01</td>\n",
       "      <td>8.490</td>\n",
       "      <td>2.451</td>\n",
       "      <td>NaN</td>\n",
       "      <td>NaN</td>\n",
       "      <td>NaN</td>\n",
       "      <td>NaN</td>\n",
       "      <td>NaN</td>\n",
       "      <td>NaN</td>\n",
       "    </tr>\n",
       "    <tr>\n",
       "      <th>4</th>\n",
       "      <td>1750-05-01</td>\n",
       "      <td>11.573</td>\n",
       "      <td>2.072</td>\n",
       "      <td>NaN</td>\n",
       "      <td>NaN</td>\n",
       "      <td>NaN</td>\n",
       "      <td>NaN</td>\n",
       "      <td>NaN</td>\n",
       "      <td>NaN</td>\n",
       "    </tr>\n",
       "  </tbody>\n",
       "</table>\n",
       "</div>"
      ],
      "text/plain": [
       "           dt  LandAverageTemperature  LandAverageTemperatureUncertainty  \\\n",
       "0  1750-01-01                   3.034                              3.574   \n",
       "1  1750-02-01                   3.083                              3.702   \n",
       "2  1750-03-01                   5.626                              3.076   \n",
       "3  1750-04-01                   8.490                              2.451   \n",
       "4  1750-05-01                  11.573                              2.072   \n",
       "\n",
       "   LandMaxTemperature  LandMaxTemperatureUncertainty  LandMinTemperature  \\\n",
       "0                 NaN                            NaN                 NaN   \n",
       "1                 NaN                            NaN                 NaN   \n",
       "2                 NaN                            NaN                 NaN   \n",
       "3                 NaN                            NaN                 NaN   \n",
       "4                 NaN                            NaN                 NaN   \n",
       "\n",
       "   LandMinTemperatureUncertainty  LandAndOceanAverageTemperature  \\\n",
       "0                            NaN                             NaN   \n",
       "1                            NaN                             NaN   \n",
       "2                            NaN                             NaN   \n",
       "3                            NaN                             NaN   \n",
       "4                            NaN                             NaN   \n",
       "\n",
       "   LandAndOceanAverageTemperatureUncertainty  \n",
       "0                                        NaN  \n",
       "1                                        NaN  \n",
       "2                                        NaN  \n",
       "3                                        NaN  \n",
       "4                                        NaN  "
      ]
     },
     "execution_count": 14,
     "metadata": {},
     "output_type": "execute_result"
    }
   ],
   "source": [
    "# read data\n",
    "data = pd.read_csv('./data/raw/GlobalTemperatures.csv')\n",
    "\n",
    "print(data.shape)\n",
    "data.head()"
   ]
  },
  {
   "cell_type": "code",
   "execution_count": 15,
   "metadata": {},
   "outputs": [
    {
     "data": {
      "image/png": "[encoded data removed]",
      "text/plain": [
       "<Figure size 640x480 with 1 Axes>"
      ]
     },
     "metadata": {},
     "output_type": "display_data"
    }
   ],
   "source": [
    "# convert dt column to datetime\n",
    "data['dt'] = pd.to_datetime(data['dt'])\n",
    "\n",
    "# plot the data['LandAverageTemperature], group by year\n",
    "data.groupby(data['dt'].dt.year)['LandAverageTemperature'].mean().plot()\n",
    "plt.show()"
   ]
  },
  {
   "cell_type": "markdown",
   "metadata": {},
   "source": [
    "### Data Cleaning\n",
    "\n",
    "1. Data from `1800-01-01` (inclusive) to `2015-12-01` (inclusive)\n",
    "2. Train data from `1800-01-01` to `1999-12-01`\n",
    "    * Training set from `1800-01-01` to `1959-12-01`\n",
    "    * Validation set from `1960-01-01` to `1999-12-01`\n",
    "3. Test data from `2000-01-01` to `2015-12-01`"
   ]
  },
  {
   "cell_type": "code",
   "execution_count": 16,
   "metadata": {},
   "outputs": [
    {
     "name": "stdout",
     "output_type": "stream",
     "text": [
      "train_data shape: (1920, 2)\n",
      "validation_data shape: (480, 2)\n",
      "test_data shape: (192, 2)\n"
     ]
    }
   ],
   "source": [
    "# convert dt column from str to datetime\n",
    "data['dt'] = pd.to_datetime(data['dt'])\n",
    "\n",
    "# keep first 2 columns\n",
    "data = data.iloc[:, :2]\n",
    "\n",
    "# split into train, validation and test sets\n",
    "train_data = data[(data['dt'] >= '1800-01-01') & (data['dt'] < '1960-01-01')]\n",
    "validation_data = data[(data['dt'] >= '1960-01-01') & (data['dt'] < '2000-01-01')]\n",
    "test_data = data[(data['dt'] >= '2000-01-01')] \n",
    "\n",
    "# check shapes, check first and last column of each set\n",
    "print(f'train_data shape: {train_data.shape}')\n",
    "# print(f'train_data first row: {train_data.iloc[0, :]}')\n",
    "# print(f'train_data last row: {train_data.iloc[-1, :]}\\n')\n",
    "\n",
    "print(f'validation_data shape: {validation_data.shape}')\n",
    "# print(f'validation_data first row: {validation_data.iloc[0, :]}')\n",
    "# print(f'validation_data last row: {validation_data.iloc[-1, :]}\\n')\n",
    "\n",
    "print(f'test_data shape: {test_data.shape}')\n",
    "# print(f'test_data first row: {test_data.iloc[0, :]}')\n",
    "# print(f'test_data last row: {test_data.iloc[-1, :]}\\n')"
   ]
  },
  {
   "cell_type": "code",
   "execution_count": 17,
   "metadata": {},
   "outputs": [],
   "source": [
    "# generate sequences\n",
    "def create_dataset(dataset, lookback):\n",
    "    \"\"\"Transform a time series into a prediction dataset\n",
    "    \n",
    "    Args:\n",
    "        dataset: A numpy array of time series, first dimension is the time steps\n",
    "        lookback: Size of window for prediction\n",
    "    \"\"\"\n",
    "    X, y = [], []\n",
    "    for i in range(len(dataset)-lookback):\n",
    "        feature = dataset.iloc[i:i+lookback, 1]\n",
    "        target = dataset.iloc[i+1:i+lookback+1, 1]\n",
    "        X.append(feature)\n",
    "        y.append(target)\n",
    "    return np.array(X), np.array(y)"
   ]
  },
  {
   "cell_type": "code",
   "execution_count": 18,
   "metadata": {},
   "outputs": [],
   "source": [
    "# generate sequences\n",
    "def create_validation_test_dataset(dataset, lookback):\n",
    "    \"\"\"Transform a time series into a prediction dataset\n",
    "    \n",
    "    Args:\n",
    "        dataset: A numpy array of time series, first dimension is the time steps\n",
    "        lookback: Size of window for prediction\n",
    "    \"\"\"\n",
    "    X, y = [], []\n",
    "    for i in range(len(dataset)-lookback):\n",
    "        feature = dataset.iloc[i:i+lookback, 1]\n",
    "        target = dataset.iloc[i+lookback, 1]\n",
    "        X.append(feature)\n",
    "        y.append(target)\n",
    "    return np.array(X), np.array(y)"
   ]
  },
  {
   "cell_type": "code",
   "execution_count": 19,
   "metadata": {},
   "outputs": [
    {
     "name": "stdout",
     "output_type": "stream",
     "text": [
      "train_X shape: (1908, 12)\n",
      "train_y shape: (1908, 12)\n"
     ]
    }
   ],
   "source": [
    "train_X, train_y = create_dataset(train_data, 12)\n",
    "\n",
    "# print shape\n",
    "print(f'train_X shape: {train_X.shape}')\n",
    "print(f'train_y shape: {train_y.shape}')"
   ]
  },
  {
   "cell_type": "code",
   "execution_count": 21,
   "metadata": {},
   "outputs": [
    {
     "name": "stdout",
     "output_type": "stream",
     "text": [
      "validate_X shape: (468, 12)\n",
      "validate_y shape: (468, 12)\n"
     ]
    }
   ],
   "source": [
    "validate_X, validate_y = create_dataset(validation_data, 12)\n",
    "\n",
    "# print shape\n",
    "print(f'validate_X shape: {validate_X.shape}')\n",
    "print(f'validate_y shape: {validate_y.shape}')"
   ]
  },
  {
   "cell_type": "code",
   "execution_count": 23,
   "metadata": {},
   "outputs": [
    {
     "name": "stdout",
     "output_type": "stream",
     "text": [
      "test_X shape: (180, 12)\n",
      "test_y shape: (180, 12)\n"
     ]
    }
   ],
   "source": [
    "test_X, test_y = create_dataset(test_data, 12)\n",
    "\n",
    "# print shape\n",
    "print(f'test_X shape: {test_X.shape}')\n",
    "print(f'test_y shape: {test_y.shape}')"
   ]
  },
  {
   "cell_type": "code",
   "execution_count": 24,
   "metadata": {},
   "outputs": [
    {
     "data": {
      "text/plain": [
       "(12,)"
      ]
     },
     "execution_count": 24,
     "metadata": {},
     "output_type": "execute_result"
    }
   ],
   "source": [
    "train_X[0].shape"
   ]
  },
  {
   "cell_type": "markdown",
   "metadata": {},
   "source": [
    "### Set Up LSTM Parameters"
   ]
  },
  {
   "cell_type": "code",
   "execution_count": 25,
   "metadata": {},
   "outputs": [
    {
     "name": "stdout",
     "output_type": "stream",
     "text": [
      "W_ih shape: (1, 400)\n",
      "W_hh shape: (100, 400)\n",
      "b shape: (400,)\n",
      "W_out shape: (100, 1)\n",
      "b_out shape: (1, 1)\n",
      "h0_init shape: (1, 1, 100)\n",
      "c0_init shape: (1, 1, 100)\n"
     ]
    }
   ],
   "source": [
    "# parameters\n",
    "N = train_X.shape[0]\n",
    "batch_size = 100 # B\n",
    "input_size = 1 # F\n",
    "hidden_size = 5 # U\n",
    "sequence_length = 12 # L\n",
    "output_size = 1 # O\n",
    "\n",
    "# generate weights from LSTM model\n",
    "model = nn.LSTM(input_size, hidden_size, num_layers=1, batch_first=True)\n",
    "W_ih = model.weight_ih_l0.detach().numpy().T\n",
    "W_hh = model.weight_hh_l0.detach().numpy().T\n",
    "b = model.bias_ih_l0.detach().numpy().T + model.bias_hh_l0.detach().numpy().T\n",
    "#W_ih = np.random.normal(0, 1, size=(input_size, 4*hidden_size)) # dim = (F, 4U)\n",
    "#W_hh = np.random.normal(0, 1, size=(hidden_size, 4*hidden_size)) # dim = (U, 4U)\n",
    "#b = np.random.normal(0, 1, size=(1, 4*hidden_size)) # dim = (1, 4U)\n",
    "\n",
    "# generate weights for the output layer\n",
    "W_out = np.random.normal(0, 1, size=(hidden_size, output_size)) # dim = (U, O)\n",
    "b_out = np.random.normal(0, 1, size=(1, output_size)) # dim = (1, O)\n",
    "\n",
    "# initial hidden and cell states and params\n",
    "h0_init = np.random.randn(1, batch_size, hidden_size).astype(np.float32) # dim = (B, U)\n",
    "c0_init = np.random.randn(1, batch_size, hidden_size).astype(np.float32) # dim = (B, U)\n",
    "params_init = [W_ih, W_hh, b, W_out, b_out]\n",
    "\n",
    "# print all the shapes\n",
    "print(f'W_ih shape: {W_ih.shape}')\n",
    "print(f'W_hh shape: {W_hh.shape}')\n",
    "print(f'b shape: {b.shape}')\n",
    "print(f'W_out shape: {W_out.shape}')\n",
    "print(f'b_out shape: {b_out.shape}')\n",
    "print(f'h0_init shape: {h0_init.shape}')\n",
    "print(f'c0_init shape: {c0_init.shape}')"
   ]
  },
  {
   "cell_type": "markdown",
   "metadata": {},
   "source": [
    "### Model Training"
   ]
  },
  {
   "cell_type": "markdown",
   "metadata": {},
   "source": [
    "#### Gradient Descent"
   ]
  },
  {
   "cell_type": "code",
   "execution_count": 27,
   "metadata": {},
   "outputs": [
    {
     "ename": "KeyboardInterrupt",
     "evalue": "",
     "output_type": "error",
     "traceback": [
      "\u001b[0;31m---------------------------------------------------------------------------\u001b[0m",
      "\u001b[0;31mKeyboardInterrupt\u001b[0m                         Traceback (most recent call last)",
      "Cell \u001b[0;32mIn[27], line 35\u001b[0m\n\u001b[1;32m     31\u001b[0m y \u001b[38;5;241m=\u001b[39m train_y[i]\u001b[38;5;241m.\u001b[39mreshape(sequence_length\u001b[38;5;241m*\u001b[39mbatch_size, output_size)    \n\u001b[1;32m     33\u001b[0m \u001b[38;5;66;03m# calculate the loss\u001b[39;00m\n\u001b[1;32m     34\u001b[0m \u001b[38;5;66;03m# train\u001b[39;00m\n\u001b[0;32m---> 35\u001b[0m train_loss \u001b[38;5;241m=\u001b[39m \u001b[43mloss\u001b[49m\u001b[43m(\u001b[49m\u001b[43mparams\u001b[49m\u001b[43m,\u001b[49m\u001b[43m \u001b[49m\u001b[43mconvert_t_x\u001b[49m\u001b[43m,\u001b[49m\u001b[43m \u001b[49m\u001b[43mconvert_t_y\u001b[49m\u001b[43m,\u001b[49m\u001b[43m \u001b[49m\u001b[43mh0\u001b[49m\u001b[43m[\u001b[49m\u001b[38;5;241;43m0\u001b[39;49m\u001b[43m]\u001b[49m\u001b[43m,\u001b[49m\u001b[43m \u001b[49m\u001b[43mc0\u001b[49m\u001b[43m[\u001b[49m\u001b[38;5;241;43m0\u001b[39;49m\u001b[43m]\u001b[49m\u001b[43m)\u001b[49m\n\u001b[1;32m     36\u001b[0m train_losses\u001b[38;5;241m.\u001b[39mappend(train_loss)\n\u001b[1;32m     37\u001b[0m \u001b[38;5;66;03m# validate\u001b[39;00m\n",
      "Cell \u001b[0;32mIn[12], line 16\u001b[0m, in \u001b[0;36mloss\u001b[0;34m(params, X, y, h0, c0)\u001b[0m\n\u001b[1;32m      9\u001b[0m \u001b[38;5;28;01mdef\u001b[39;00m \u001b[38;5;21mloss\u001b[39m(params, X, y, h0, c0):\n\u001b[1;32m     10\u001b[0m \u001b[38;5;250m    \u001b[39m\u001b[38;5;124;03m\"\"\"\u001b[39;00m\n\u001b[1;32m     11\u001b[0m \u001b[38;5;124;03m    Inputs\u001b[39;00m\n\u001b[1;32m     12\u001b[0m \u001b[38;5;124;03m    params = [W_ih, W_hh, b, W_out, b_out]\u001b[39;00m\n\u001b[1;32m     13\u001b[0m \u001b[38;5;124;03m    X = batch of inputs. i.e. train_X dim = (N, L*F) convert to (L, N, F)\u001b[39;00m\n\u001b[1;32m     14\u001b[0m \u001b[38;5;124;03m    y = batch of true labels i.e. train_y dime = (N, L*F) convert to (L, N, F)\u001b[39;00m\n\u001b[1;32m     15\u001b[0m \u001b[38;5;124;03m    \"\"\"\u001b[39;00m\n\u001b[0;32m---> 16\u001b[0m     \u001b[38;5;28;01mreturn\u001b[39;00m jnp\u001b[38;5;241m.\u001b[39mmean(\u001b[43mloss_all\u001b[49m\u001b[43m(\u001b[49m\u001b[43mparams\u001b[49m\u001b[43m,\u001b[49m\u001b[43m \u001b[49m\u001b[43mX\u001b[49m\u001b[43m,\u001b[49m\u001b[43m \u001b[49m\u001b[43my\u001b[49m\u001b[43m,\u001b[49m\u001b[43m \u001b[49m\u001b[43mh0\u001b[49m\u001b[43m,\u001b[49m\u001b[43m \u001b[49m\u001b[43mc0\u001b[49m\u001b[43m)\u001b[49m)\n",
      "    \u001b[0;31m[... skipping hidden 1 frame]\u001b[0m\n",
      "File \u001b[0;32m~/Documents/Y4S1/DSA4212/LSTM/.lstmvenv/lib/python3.8/site-packages/jax/_src/api.py:1240\u001b[0m, in \u001b[0;36mvmap.<locals>.vmap_f\u001b[0;34m(*args, **kwargs)\u001b[0m\n\u001b[1;32m   1237\u001b[0m in_axes_flat \u001b[38;5;241m=\u001b[39m flatten_axes(\u001b[38;5;124m\"\u001b[39m\u001b[38;5;124mvmap in_axes\u001b[39m\u001b[38;5;124m\"\u001b[39m, in_tree, (in_axes, \u001b[38;5;241m0\u001b[39m), kws\u001b[38;5;241m=\u001b[39m\u001b[38;5;28;01mTrue\u001b[39;00m)\n\u001b[1;32m   1238\u001b[0m axis_size_ \u001b[38;5;241m=\u001b[39m (axis_size \u001b[38;5;28;01mif\u001b[39;00m axis_size \u001b[38;5;129;01mis\u001b[39;00m \u001b[38;5;129;01mnot\u001b[39;00m \u001b[38;5;28;01mNone\u001b[39;00m \u001b[38;5;28;01melse\u001b[39;00m\n\u001b[1;32m   1239\u001b[0m               _mapped_axis_size(fun, in_tree, args_flat, in_axes_flat, \u001b[38;5;124m\"\u001b[39m\u001b[38;5;124mvmap\u001b[39m\u001b[38;5;124m\"\u001b[39m))\n\u001b[0;32m-> 1240\u001b[0m out_flat \u001b[38;5;241m=\u001b[39m \u001b[43mbatching\u001b[49m\u001b[38;5;241;43m.\u001b[39;49m\u001b[43mbatch\u001b[49m\u001b[43m(\u001b[49m\n\u001b[1;32m   1241\u001b[0m \u001b[43m    \u001b[49m\u001b[43mflat_fun\u001b[49m\u001b[43m,\u001b[49m\u001b[43m \u001b[49m\u001b[43maxis_name\u001b[49m\u001b[43m,\u001b[49m\u001b[43m \u001b[49m\u001b[43maxis_size_\u001b[49m\u001b[43m,\u001b[49m\u001b[43m \u001b[49m\u001b[43min_axes_flat\u001b[49m\u001b[43m,\u001b[49m\n\u001b[1;32m   1242\u001b[0m \u001b[43m    \u001b[49m\u001b[38;5;28;43;01mlambda\u001b[39;49;00m\u001b[43m:\u001b[49m\u001b[43m \u001b[49m\u001b[43mflatten_axes\u001b[49m\u001b[43m(\u001b[49m\u001b[38;5;124;43m\"\u001b[39;49m\u001b[38;5;124;43mvmap out_axes\u001b[39;49m\u001b[38;5;124;43m\"\u001b[39;49m\u001b[43m,\u001b[49m\u001b[43m \u001b[49m\u001b[43mout_tree\u001b[49m\u001b[43m(\u001b[49m\u001b[43m)\u001b[49m\u001b[43m,\u001b[49m\u001b[43m \u001b[49m\u001b[43mout_axes\u001b[49m\u001b[43m)\u001b[49m\u001b[43m,\u001b[49m\n\u001b[1;32m   1243\u001b[0m \u001b[43m    \u001b[49m\u001b[43mspmd_axis_name\u001b[49m\u001b[38;5;241;43m=\u001b[39;49m\u001b[43mspmd_axis_name\u001b[49m\n\u001b[1;32m   1244\u001b[0m \u001b[43m\u001b[49m\u001b[43m)\u001b[49m\u001b[38;5;241;43m.\u001b[39;49m\u001b[43mcall_wrapped\u001b[49m\u001b[43m(\u001b[49m\u001b[38;5;241;43m*\u001b[39;49m\u001b[43margs_flat\u001b[49m\u001b[43m)\u001b[49m\n\u001b[1;32m   1245\u001b[0m \u001b[38;5;28;01mreturn\u001b[39;00m tree_unflatten(out_tree(), out_flat)\n",
      "File \u001b[0;32m~/Documents/Y4S1/DSA4212/LSTM/.lstmvenv/lib/python3.8/site-packages/jax/_src/linear_util.py:188\u001b[0m, in \u001b[0;36mWrappedFun.call_wrapped\u001b[0;34m(self, *args, **kwargs)\u001b[0m\n\u001b[1;32m    185\u001b[0m gen \u001b[38;5;241m=\u001b[39m gen_static_args \u001b[38;5;241m=\u001b[39m out_store \u001b[38;5;241m=\u001b[39m \u001b[38;5;28;01mNone\u001b[39;00m\n\u001b[1;32m    187\u001b[0m \u001b[38;5;28;01mtry\u001b[39;00m:\n\u001b[0;32m--> 188\u001b[0m   ans \u001b[38;5;241m=\u001b[39m \u001b[38;5;28;43mself\u001b[39;49m\u001b[38;5;241;43m.\u001b[39;49m\u001b[43mf\u001b[49m\u001b[43m(\u001b[49m\u001b[38;5;241;43m*\u001b[39;49m\u001b[43margs\u001b[49m\u001b[43m,\u001b[49m\u001b[43m \u001b[49m\u001b[38;5;241;43m*\u001b[39;49m\u001b[38;5;241;43m*\u001b[39;49m\u001b[38;5;28;43mdict\u001b[39;49m\u001b[43m(\u001b[49m\u001b[38;5;28;43mself\u001b[39;49m\u001b[38;5;241;43m.\u001b[39;49m\u001b[43mparams\u001b[49m\u001b[43m,\u001b[49m\u001b[43m \u001b[49m\u001b[38;5;241;43m*\u001b[39;49m\u001b[38;5;241;43m*\u001b[39;49m\u001b[43mkwargs\u001b[49m\u001b[43m)\u001b[49m\u001b[43m)\u001b[49m\n\u001b[1;32m    189\u001b[0m \u001b[38;5;28;01mexcept\u001b[39;00m:\n\u001b[1;32m    190\u001b[0m   \u001b[38;5;66;03m# Some transformations yield from inside context managers, so we have to\u001b[39;00m\n\u001b[1;32m    191\u001b[0m   \u001b[38;5;66;03m# interrupt them before reraising the exception. Otherwise they will only\u001b[39;00m\n\u001b[1;32m    192\u001b[0m   \u001b[38;5;66;03m# get garbage-collected at some later time, running their cleanup tasks\u001b[39;00m\n\u001b[1;32m    193\u001b[0m   \u001b[38;5;66;03m# only after this exception is handled, which can corrupt the global\u001b[39;00m\n\u001b[1;32m    194\u001b[0m   \u001b[38;5;66;03m# state.\u001b[39;00m\n\u001b[1;32m    195\u001b[0m   \u001b[38;5;28;01mwhile\u001b[39;00m stack:\n",
      "    \u001b[0;31m[... skipping hidden 1 frame]\u001b[0m\n",
      "File \u001b[0;32m~/Documents/Y4S1/DSA4212/LSTM/.lstmvenv/lib/python3.8/site-packages/jax/_src/pjit.py:250\u001b[0m, in \u001b[0;36m_cpp_pjit.<locals>.cache_miss\u001b[0;34m(*args, **kwargs)\u001b[0m\n\u001b[1;32m    248\u001b[0m \u001b[38;5;129m@api_boundary\u001b[39m\n\u001b[1;32m    249\u001b[0m \u001b[38;5;28;01mdef\u001b[39;00m \u001b[38;5;21mcache_miss\u001b[39m(\u001b[38;5;241m*\u001b[39margs, \u001b[38;5;241m*\u001b[39m\u001b[38;5;241m*\u001b[39mkwargs):\n\u001b[0;32m--> 250\u001b[0m   outs, out_flat, out_tree, args_flat, jaxpr \u001b[38;5;241m=\u001b[39m \u001b[43m_python_pjit_helper\u001b[49m\u001b[43m(\u001b[49m\n\u001b[1;32m    251\u001b[0m \u001b[43m      \u001b[49m\u001b[43mfun\u001b[49m\u001b[43m,\u001b[49m\u001b[43m \u001b[49m\u001b[43minfer_params_fn\u001b[49m\u001b[43m,\u001b[49m\u001b[43m \u001b[49m\u001b[38;5;241;43m*\u001b[39;49m\u001b[43margs\u001b[49m\u001b[43m,\u001b[49m\u001b[43m \u001b[49m\u001b[38;5;241;43m*\u001b[39;49m\u001b[38;5;241;43m*\u001b[39;49m\u001b[43mkwargs\u001b[49m\u001b[43m)\u001b[49m\n\u001b[1;32m    252\u001b[0m   executable \u001b[38;5;241m=\u001b[39m _read_most_recent_pjit_call_executable(jaxpr)\n\u001b[1;32m    253\u001b[0m   fastpath_data \u001b[38;5;241m=\u001b[39m _get_fastpath_data(executable, out_tree, args_flat, out_flat)\n",
      "File \u001b[0;32m~/Documents/Y4S1/DSA4212/LSTM/.lstmvenv/lib/python3.8/site-packages/jax/_src/pjit.py:163\u001b[0m, in \u001b[0;36m_python_pjit_helper\u001b[0;34m(fun, infer_params_fn, *args, **kwargs)\u001b[0m\n\u001b[1;32m    161\u001b[0m   dispatch\u001b[38;5;241m.\u001b[39mcheck_arg(arg)\n\u001b[1;32m    162\u001b[0m \u001b[38;5;28;01mtry\u001b[39;00m:\n\u001b[0;32m--> 163\u001b[0m   out_flat \u001b[38;5;241m=\u001b[39m \u001b[43mpjit_p\u001b[49m\u001b[38;5;241;43m.\u001b[39;49m\u001b[43mbind\u001b[49m\u001b[43m(\u001b[49m\u001b[38;5;241;43m*\u001b[39;49m\u001b[43margs_flat\u001b[49m\u001b[43m,\u001b[49m\u001b[43m \u001b[49m\u001b[38;5;241;43m*\u001b[39;49m\u001b[38;5;241;43m*\u001b[39;49m\u001b[43mparams\u001b[49m\u001b[43m)\u001b[49m\n\u001b[1;32m    164\u001b[0m \u001b[38;5;28;01mexcept\u001b[39;00m pxla\u001b[38;5;241m.\u001b[39mDeviceAssignmentMismatchError \u001b[38;5;28;01mas\u001b[39;00m e:\n\u001b[1;32m    165\u001b[0m   fails, \u001b[38;5;241m=\u001b[39m e\u001b[38;5;241m.\u001b[39margs\n",
      "File \u001b[0;32m~/Documents/Y4S1/DSA4212/LSTM/.lstmvenv/lib/python3.8/site-packages/jax/_src/core.py:2677\u001b[0m, in \u001b[0;36mAxisPrimitive.bind\u001b[0;34m(self, *args, **params)\u001b[0m\n\u001b[1;32m   2673\u001b[0m axis_main \u001b[38;5;241m=\u001b[39m \u001b[38;5;28mmax\u001b[39m((axis_frame(a)\u001b[38;5;241m.\u001b[39mmain_trace \u001b[38;5;28;01mfor\u001b[39;00m a \u001b[38;5;129;01min\u001b[39;00m used_axis_names(\u001b[38;5;28mself\u001b[39m, params)),\n\u001b[1;32m   2674\u001b[0m                 default\u001b[38;5;241m=\u001b[39m\u001b[38;5;28;01mNone\u001b[39;00m, key\u001b[38;5;241m=\u001b[39m\u001b[38;5;28;01mlambda\u001b[39;00m t: \u001b[38;5;28mgetattr\u001b[39m(t, \u001b[38;5;124m'\u001b[39m\u001b[38;5;124mlevel\u001b[39m\u001b[38;5;124m'\u001b[39m, \u001b[38;5;241m-\u001b[39m\u001b[38;5;241m1\u001b[39m))\n\u001b[1;32m   2675\u001b[0m top_trace \u001b[38;5;241m=\u001b[39m (top_trace \u001b[38;5;28;01mif\u001b[39;00m \u001b[38;5;129;01mnot\u001b[39;00m axis_main \u001b[38;5;129;01mor\u001b[39;00m axis_main\u001b[38;5;241m.\u001b[39mlevel \u001b[38;5;241m<\u001b[39m top_trace\u001b[38;5;241m.\u001b[39mlevel\n\u001b[1;32m   2676\u001b[0m              \u001b[38;5;28;01melse\u001b[39;00m axis_main\u001b[38;5;241m.\u001b[39mwith_cur_sublevel())\n\u001b[0;32m-> 2677\u001b[0m \u001b[38;5;28;01mreturn\u001b[39;00m \u001b[38;5;28;43mself\u001b[39;49m\u001b[38;5;241;43m.\u001b[39;49m\u001b[43mbind_with_trace\u001b[49m\u001b[43m(\u001b[49m\u001b[43mtop_trace\u001b[49m\u001b[43m,\u001b[49m\u001b[43m \u001b[49m\u001b[43margs\u001b[49m\u001b[43m,\u001b[49m\u001b[43m \u001b[49m\u001b[43mparams\u001b[49m\u001b[43m)\u001b[49m\n",
      "File \u001b[0;32m~/Documents/Y4S1/DSA4212/LSTM/.lstmvenv/lib/python3.8/site-packages/jax/_src/core.py:383\u001b[0m, in \u001b[0;36mPrimitive.bind_with_trace\u001b[0;34m(self, trace, args, params)\u001b[0m\n\u001b[1;32m    382\u001b[0m \u001b[38;5;28;01mdef\u001b[39;00m \u001b[38;5;21mbind_with_trace\u001b[39m(\u001b[38;5;28mself\u001b[39m, trace, args, params):\n\u001b[0;32m--> 383\u001b[0m   out \u001b[38;5;241m=\u001b[39m \u001b[43mtrace\u001b[49m\u001b[38;5;241;43m.\u001b[39;49m\u001b[43mprocess_primitive\u001b[49m\u001b[43m(\u001b[49m\u001b[38;5;28;43mself\u001b[39;49m\u001b[43m,\u001b[49m\u001b[43m \u001b[49m\u001b[38;5;28;43mmap\u001b[39;49m\u001b[43m(\u001b[49m\u001b[43mtrace\u001b[49m\u001b[38;5;241;43m.\u001b[39;49m\u001b[43mfull_raise\u001b[49m\u001b[43m,\u001b[49m\u001b[43m \u001b[49m\u001b[43margs\u001b[49m\u001b[43m)\u001b[49m\u001b[43m,\u001b[49m\u001b[43m \u001b[49m\u001b[43mparams\u001b[49m\u001b[43m)\u001b[49m\n\u001b[1;32m    384\u001b[0m   \u001b[38;5;28;01mreturn\u001b[39;00m \u001b[38;5;28mmap\u001b[39m(full_lower, out) \u001b[38;5;28;01mif\u001b[39;00m \u001b[38;5;28mself\u001b[39m\u001b[38;5;241m.\u001b[39mmultiple_results \u001b[38;5;28;01melse\u001b[39;00m full_lower(out)\n",
      "File \u001b[0;32m~/Documents/Y4S1/DSA4212/LSTM/.lstmvenv/lib/python3.8/site-packages/jax/_src/interpreters/batching.py:398\u001b[0m, in \u001b[0;36mBatchTrace.process_primitive\u001b[0;34m(self, primitive, tracers, params)\u001b[0m\n\u001b[1;32m    396\u001b[0m   frame \u001b[38;5;241m=\u001b[39m \u001b[38;5;28mself\u001b[39m\u001b[38;5;241m.\u001b[39mget_frame(vals_in, dims_in)\n\u001b[1;32m    397\u001b[0m   batched_primitive \u001b[38;5;241m=\u001b[39m \u001b[38;5;28mself\u001b[39m\u001b[38;5;241m.\u001b[39mget_primitive_batcher(primitive, frame)\n\u001b[0;32m--> 398\u001b[0m   val_out, dim_out \u001b[38;5;241m=\u001b[39m \u001b[43mbatched_primitive\u001b[49m\u001b[43m(\u001b[49m\u001b[43mvals_in\u001b[49m\u001b[43m,\u001b[49m\u001b[43m \u001b[49m\u001b[43mdims_in\u001b[49m\u001b[43m,\u001b[49m\u001b[43m \u001b[49m\u001b[38;5;241;43m*\u001b[39;49m\u001b[38;5;241;43m*\u001b[39;49m\u001b[43mparams\u001b[49m\u001b[43m)\u001b[49m\n\u001b[1;32m    399\u001b[0m src \u001b[38;5;241m=\u001b[39m source_info_util\u001b[38;5;241m.\u001b[39mcurrent()\n\u001b[1;32m    400\u001b[0m \u001b[38;5;28;01mif\u001b[39;00m primitive\u001b[38;5;241m.\u001b[39mmultiple_results:\n",
      "File \u001b[0;32m~/Documents/Y4S1/DSA4212/LSTM/.lstmvenv/lib/python3.8/site-packages/jax/_src/pjit.py:1415\u001b[0m, in \u001b[0;36m_pjit_batcher\u001b[0;34m(insert_axis, spmd_axis_name, axis_size, axis_name, main_type, vals_in, dims_in, jaxpr, in_shardings, out_shardings, resource_env, donated_invars, name, keep_unused, inline)\u001b[0m\n\u001b[1;32m   1407\u001b[0m in_shardings \u001b[38;5;241m=\u001b[39m \u001b[38;5;28mtuple\u001b[39m(\n\u001b[1;32m   1408\u001b[0m     _pjit_batcher_for_sharding(i, axis_in, new_parts, mesh, aval\u001b[38;5;241m.\u001b[39mndim)\n\u001b[1;32m   1409\u001b[0m     \u001b[38;5;28;01mif\u001b[39;00m axis_in \u001b[38;5;129;01mis\u001b[39;00m \u001b[38;5;129;01mnot\u001b[39;00m \u001b[38;5;28;01mNone\u001b[39;00m \u001b[38;5;28;01melse\u001b[39;00m i\n\u001b[1;32m   1410\u001b[0m     \u001b[38;5;28;01mfor\u001b[39;00m axis_in, i, aval \u001b[38;5;129;01min\u001b[39;00m \u001b[38;5;28mzip\u001b[39m(dims_in, in_shardings, new_jaxpr\u001b[38;5;241m.\u001b[39min_avals))\n\u001b[1;32m   1411\u001b[0m out_shardings \u001b[38;5;241m=\u001b[39m \u001b[38;5;28mtuple\u001b[39m(\n\u001b[1;32m   1412\u001b[0m     _pjit_batcher_for_sharding(o, axis_out, new_parts, mesh, aval\u001b[38;5;241m.\u001b[39mndim)\n\u001b[1;32m   1413\u001b[0m     \u001b[38;5;28;01mif\u001b[39;00m axis_out \u001b[38;5;129;01mis\u001b[39;00m \u001b[38;5;129;01mnot\u001b[39;00m \u001b[38;5;28;01mNone\u001b[39;00m \u001b[38;5;28;01melse\u001b[39;00m o\n\u001b[1;32m   1414\u001b[0m     \u001b[38;5;28;01mfor\u001b[39;00m axis_out, o, aval \u001b[38;5;129;01min\u001b[39;00m \u001b[38;5;28mzip\u001b[39m(axes_out, out_shardings, new_jaxpr\u001b[38;5;241m.\u001b[39mout_avals))\n\u001b[0;32m-> 1415\u001b[0m vals_out \u001b[38;5;241m=\u001b[39m \u001b[43mpjit_p\u001b[49m\u001b[38;5;241;43m.\u001b[39;49m\u001b[43mbind\u001b[49m\u001b[43m(\u001b[49m\n\u001b[1;32m   1416\u001b[0m \u001b[43m  \u001b[49m\u001b[38;5;241;43m*\u001b[39;49m\u001b[43mvals_in\u001b[49m\u001b[43m,\u001b[49m\n\u001b[1;32m   1417\u001b[0m \u001b[43m  \u001b[49m\u001b[43mjaxpr\u001b[49m\u001b[38;5;241;43m=\u001b[39;49m\u001b[43mnew_jaxpr\u001b[49m\u001b[43m,\u001b[49m\n\u001b[1;32m   1418\u001b[0m \u001b[43m  \u001b[49m\u001b[43min_shardings\u001b[49m\u001b[38;5;241;43m=\u001b[39;49m\u001b[43min_shardings\u001b[49m\u001b[43m,\u001b[49m\n\u001b[1;32m   1419\u001b[0m \u001b[43m  \u001b[49m\u001b[43mout_shardings\u001b[49m\u001b[38;5;241;43m=\u001b[39;49m\u001b[43mout_shardings\u001b[49m\u001b[43m,\u001b[49m\n\u001b[1;32m   1420\u001b[0m \u001b[43m  \u001b[49m\u001b[43mresource_env\u001b[49m\u001b[38;5;241;43m=\u001b[39;49m\u001b[43mresource_env\u001b[49m\u001b[43m,\u001b[49m\n\u001b[1;32m   1421\u001b[0m \u001b[43m  \u001b[49m\u001b[43mdonated_invars\u001b[49m\u001b[38;5;241;43m=\u001b[39;49m\u001b[43mdonated_invars\u001b[49m\u001b[43m,\u001b[49m\n\u001b[1;32m   1422\u001b[0m \u001b[43m  \u001b[49m\u001b[43mname\u001b[49m\u001b[38;5;241;43m=\u001b[39;49m\u001b[43mname\u001b[49m\u001b[43m,\u001b[49m\n\u001b[1;32m   1423\u001b[0m \u001b[43m  \u001b[49m\u001b[43mkeep_unused\u001b[49m\u001b[38;5;241;43m=\u001b[39;49m\u001b[43mkeep_unused\u001b[49m\u001b[43m,\u001b[49m\n\u001b[1;32m   1424\u001b[0m \u001b[43m  \u001b[49m\u001b[43minline\u001b[49m\u001b[38;5;241;43m=\u001b[39;49m\u001b[43minline\u001b[49m\u001b[43m)\u001b[49m\n\u001b[1;32m   1425\u001b[0m \u001b[38;5;28;01mreturn\u001b[39;00m vals_out, axes_out\n",
      "File \u001b[0;32m~/Documents/Y4S1/DSA4212/LSTM/.lstmvenv/lib/python3.8/site-packages/jax/_src/core.py:2673\u001b[0m, in \u001b[0;36mAxisPrimitive.bind\u001b[0;34m(self, *args, **params)\u001b[0m\n\u001b[1;32m   2671\u001b[0m \u001b[38;5;28;01mdef\u001b[39;00m \u001b[38;5;21mbind\u001b[39m(\u001b[38;5;28mself\u001b[39m, \u001b[38;5;241m*\u001b[39margs, \u001b[38;5;241m*\u001b[39m\u001b[38;5;241m*\u001b[39mparams):\n\u001b[1;32m   2672\u001b[0m   top_trace \u001b[38;5;241m=\u001b[39m find_top_trace(args)\n\u001b[0;32m-> 2673\u001b[0m   axis_main \u001b[38;5;241m=\u001b[39m \u001b[38;5;28mmax\u001b[39m((axis_frame(a)\u001b[38;5;241m.\u001b[39mmain_trace \u001b[38;5;28;01mfor\u001b[39;00m a \u001b[38;5;129;01min\u001b[39;00m \u001b[43mused_axis_names\u001b[49m\u001b[43m(\u001b[49m\u001b[38;5;28;43mself\u001b[39;49m\u001b[43m,\u001b[49m\u001b[43m \u001b[49m\u001b[43mparams\u001b[49m\u001b[43m)\u001b[49m),\n\u001b[1;32m   2674\u001b[0m                   default\u001b[38;5;241m=\u001b[39m\u001b[38;5;28;01mNone\u001b[39;00m, key\u001b[38;5;241m=\u001b[39m\u001b[38;5;28;01mlambda\u001b[39;00m t: \u001b[38;5;28mgetattr\u001b[39m(t, \u001b[38;5;124m'\u001b[39m\u001b[38;5;124mlevel\u001b[39m\u001b[38;5;124m'\u001b[39m, \u001b[38;5;241m-\u001b[39m\u001b[38;5;241m1\u001b[39m))\n\u001b[1;32m   2675\u001b[0m   top_trace \u001b[38;5;241m=\u001b[39m (top_trace \u001b[38;5;28;01mif\u001b[39;00m \u001b[38;5;129;01mnot\u001b[39;00m axis_main \u001b[38;5;129;01mor\u001b[39;00m axis_main\u001b[38;5;241m.\u001b[39mlevel \u001b[38;5;241m<\u001b[39m top_trace\u001b[38;5;241m.\u001b[39mlevel\n\u001b[1;32m   2676\u001b[0m                \u001b[38;5;28;01melse\u001b[39;00m axis_main\u001b[38;5;241m.\u001b[39mwith_cur_sublevel())\n\u001b[1;32m   2677\u001b[0m   \u001b[38;5;28;01mreturn\u001b[39;00m \u001b[38;5;28mself\u001b[39m\u001b[38;5;241m.\u001b[39mbind_with_trace(top_trace, args, params)\n",
      "File \u001b[0;32m~/Documents/Y4S1/DSA4212/LSTM/.lstmvenv/lib/python3.8/site-packages/jax/_src/core.py:2577\u001b[0m, in \u001b[0;36mused_axis_names\u001b[0;34m(primitive, params)\u001b[0m\n\u001b[1;32m   2575\u001b[0m \u001b[38;5;28;01mdef\u001b[39;00m \u001b[38;5;21mused_axis_names\u001b[39m(primitive: Primitive, params: ParamDict) \u001b[38;5;241m-\u001b[39m\u001b[38;5;241m>\u001b[39m Set[AxisName]:\n\u001b[1;32m   2576\u001b[0m   subst \u001b[38;5;241m=\u001b[39m NameGatheringSubst()\n\u001b[0;32m-> 2577\u001b[0m   \u001b[43msubst_axis_names\u001b[49m\u001b[43m(\u001b[49m\u001b[43mprimitive\u001b[49m\u001b[43m,\u001b[49m\u001b[43m \u001b[49m\u001b[43mparams\u001b[49m\u001b[43m,\u001b[49m\u001b[43m \u001b[49m\u001b[43msubst\u001b[49m\u001b[43m)\u001b[49m\n\u001b[1;32m   2578\u001b[0m   \u001b[38;5;28;01mreturn\u001b[39;00m subst\u001b[38;5;241m.\u001b[39maxis_names\n",
      "File \u001b[0;32m~/Documents/Y4S1/DSA4212/LSTM/.lstmvenv/lib/python3.8/site-packages/jax/_src/core.py:2596\u001b[0m, in \u001b[0;36msubst_axis_names\u001b[0;34m(primitive, params, subst, traverse)\u001b[0m\n\u001b[1;32m   2594\u001b[0m new_params \u001b[38;5;241m=\u001b[39m \u001b[38;5;28mdict\u001b[39m(params)\n\u001b[1;32m   2595\u001b[0m \u001b[38;5;28;01mfor\u001b[39;00m name, jaxpr \u001b[38;5;129;01min\u001b[39;00m jaxpr_params:\n\u001b[0;32m-> 2596\u001b[0m   new_params[name] \u001b[38;5;241m=\u001b[39m \u001b[43msubst_axis_names_jaxpr\u001b[49m\u001b[43m(\u001b[49m\u001b[43mjaxpr\u001b[49m\u001b[43m,\u001b[49m\u001b[43m \u001b[49m\u001b[43mshadowed_subst\u001b[49m\u001b[43m)\u001b[49m\n\u001b[1;32m   2597\u001b[0m \u001b[38;5;28;01mreturn\u001b[39;00m new_params\n",
      "File \u001b[0;32m~/Documents/Y4S1/DSA4212/LSTM/.lstmvenv/lib/python3.8/site-packages/jax/_src/core.py:2652\u001b[0m, in \u001b[0;36msubst_axis_names_jaxpr\u001b[0;34m(jaxpr, subst)\u001b[0m\n\u001b[1;32m   2650\u001b[0m \u001b[38;5;28;01mdef\u001b[39;00m \u001b[38;5;21msubst_axis_names_jaxpr\u001b[39m(jaxpr: Union[Jaxpr, ClosedJaxpr], subst: AxisSubst):\n\u001b[1;32m   2651\u001b[0m   \u001b[38;5;28;01mif\u001b[39;00m \u001b[38;5;28misinstance\u001b[39m(subst, NameGatheringSubst):  \u001b[38;5;66;03m# This is a common case, so we optimize it!\u001b[39;00m\n\u001b[0;32m-> 2652\u001b[0m     subst\u001b[38;5;241m.\u001b[39maxis_names \u001b[38;5;241m|\u001b[39m\u001b[38;5;241m=\u001b[39m \u001b[43mused_axis_names_jaxpr\u001b[49m\u001b[43m(\u001b[49m\u001b[43mjaxpr\u001b[49m\u001b[43m)\u001b[49m\n\u001b[1;32m   2653\u001b[0m     \u001b[38;5;28;01mreturn\u001b[39;00m jaxpr\n\u001b[1;32m   2654\u001b[0m   \u001b[38;5;28;01mreturn\u001b[39;00m do_subst_axis_names_jaxpr(jaxpr, subst)\n",
      "File \u001b[0;32m~/Documents/Y4S1/DSA4212/LSTM/.lstmvenv/lib/python3.8/site-packages/jax/_src/core.py:2647\u001b[0m, in \u001b[0;36mused_axis_names_jaxpr\u001b[0;34m(jaxpr)\u001b[0m\n\u001b[1;32m   2644\u001b[0m \u001b[38;5;129m@weakref_lru_cache\u001b[39m\n\u001b[1;32m   2645\u001b[0m \u001b[38;5;28;01mdef\u001b[39;00m \u001b[38;5;21mused_axis_names_jaxpr\u001b[39m(jaxpr: Union[Jaxpr, ClosedJaxpr]):\n\u001b[1;32m   2646\u001b[0m   subst \u001b[38;5;241m=\u001b[39m NameGatheringSubst()\n\u001b[0;32m-> 2647\u001b[0m   \u001b[43mdo_subst_axis_names_jaxpr\u001b[49m\u001b[43m(\u001b[49m\u001b[43mjaxpr\u001b[49m\u001b[43m,\u001b[49m\u001b[43m \u001b[49m\u001b[43msubst\u001b[49m\u001b[43m)\u001b[49m\n\u001b[1;32m   2648\u001b[0m   \u001b[38;5;28;01mreturn\u001b[39;00m \u001b[38;5;28mfrozenset\u001b[39m(subst\u001b[38;5;241m.\u001b[39maxis_names)\n",
      "File \u001b[0;32m~/Documents/Y4S1/DSA4212/LSTM/.lstmvenv/lib/python3.8/site-packages/jax/_src/core.py:2637\u001b[0m, in \u001b[0;36mdo_subst_axis_names_jaxpr\u001b[0;34m(jaxpr, subst)\u001b[0m\n\u001b[1;32m   2635\u001b[0m invars \u001b[38;5;241m=\u001b[39m [subst_axis_names_var(v, subst, var_map) \u001b[38;5;28;01mfor\u001b[39;00m v \u001b[38;5;129;01min\u001b[39;00m jaxpr\u001b[38;5;241m.\u001b[39minvars]  \u001b[38;5;66;03m# type: ignore[union-attr]\u001b[39;00m\n\u001b[1;32m   2636\u001b[0m constvars \u001b[38;5;241m=\u001b[39m [subst_axis_names_var(v, subst, var_map) \u001b[38;5;28;01mfor\u001b[39;00m v \u001b[38;5;129;01min\u001b[39;00m jaxpr\u001b[38;5;241m.\u001b[39mconstvars]  \u001b[38;5;66;03m# type: ignore[union-attr]\u001b[39;00m\n\u001b[0;32m-> 2637\u001b[0m eqns \u001b[38;5;241m=\u001b[39m [subst_axis_names_eqn(eqn, subst, var_map) \u001b[38;5;28;01mfor\u001b[39;00m eqn \u001b[38;5;129;01min\u001b[39;00m jaxpr\u001b[38;5;241m.\u001b[39meqns]  \u001b[38;5;66;03m# type: ignore[union-attr]\u001b[39;00m\n\u001b[1;32m   2638\u001b[0m outvars: List[Atom] \u001b[38;5;241m=\u001b[39m [v \u001b[38;5;28;01mif\u001b[39;00m \u001b[38;5;28misinstance\u001b[39m(v, Literal) \u001b[38;5;28;01melse\u001b[39;00m var_map[v] \u001b[38;5;28;01mfor\u001b[39;00m v \u001b[38;5;129;01min\u001b[39;00m jaxpr\u001b[38;5;241m.\u001b[39moutvars]  \u001b[38;5;66;03m# type: ignore[union-attr]\u001b[39;00m\n\u001b[1;32m   2639\u001b[0m new_jaxpr \u001b[38;5;241m=\u001b[39m Jaxpr(constvars, invars, outvars, eqns, jaxpr\u001b[38;5;241m.\u001b[39meffects)\n",
      "File \u001b[0;32m~/Documents/Y4S1/DSA4212/LSTM/.lstmvenv/lib/python3.8/site-packages/jax/_src/core.py:2637\u001b[0m, in \u001b[0;36m<listcomp>\u001b[0;34m(.0)\u001b[0m\n\u001b[1;32m   2635\u001b[0m invars \u001b[38;5;241m=\u001b[39m [subst_axis_names_var(v, subst, var_map) \u001b[38;5;28;01mfor\u001b[39;00m v \u001b[38;5;129;01min\u001b[39;00m jaxpr\u001b[38;5;241m.\u001b[39minvars]  \u001b[38;5;66;03m# type: ignore[union-attr]\u001b[39;00m\n\u001b[1;32m   2636\u001b[0m constvars \u001b[38;5;241m=\u001b[39m [subst_axis_names_var(v, subst, var_map) \u001b[38;5;28;01mfor\u001b[39;00m v \u001b[38;5;129;01min\u001b[39;00m jaxpr\u001b[38;5;241m.\u001b[39mconstvars]  \u001b[38;5;66;03m# type: ignore[union-attr]\u001b[39;00m\n\u001b[0;32m-> 2637\u001b[0m eqns \u001b[38;5;241m=\u001b[39m [\u001b[43msubst_axis_names_eqn\u001b[49m\u001b[43m(\u001b[49m\u001b[43meqn\u001b[49m\u001b[43m,\u001b[49m\u001b[43m \u001b[49m\u001b[43msubst\u001b[49m\u001b[43m,\u001b[49m\u001b[43m \u001b[49m\u001b[43mvar_map\u001b[49m\u001b[43m)\u001b[49m \u001b[38;5;28;01mfor\u001b[39;00m eqn \u001b[38;5;129;01min\u001b[39;00m jaxpr\u001b[38;5;241m.\u001b[39meqns]  \u001b[38;5;66;03m# type: ignore[union-attr]\u001b[39;00m\n\u001b[1;32m   2638\u001b[0m outvars: List[Atom] \u001b[38;5;241m=\u001b[39m [v \u001b[38;5;28;01mif\u001b[39;00m \u001b[38;5;28misinstance\u001b[39m(v, Literal) \u001b[38;5;28;01melse\u001b[39;00m var_map[v] \u001b[38;5;28;01mfor\u001b[39;00m v \u001b[38;5;129;01min\u001b[39;00m jaxpr\u001b[38;5;241m.\u001b[39moutvars]  \u001b[38;5;66;03m# type: ignore[union-attr]\u001b[39;00m\n\u001b[1;32m   2639\u001b[0m new_jaxpr \u001b[38;5;241m=\u001b[39m Jaxpr(constvars, invars, outvars, eqns, jaxpr\u001b[38;5;241m.\u001b[39meffects)\n",
      "File \u001b[0;32m~/Documents/Y4S1/DSA4212/LSTM/.lstmvenv/lib/python3.8/site-packages/jax/_src/core.py:2622\u001b[0m, in \u001b[0;36msubst_axis_names_eqn\u001b[0;34m(eqn, subst, var_map)\u001b[0m\n\u001b[1;32m   2620\u001b[0m invars: List[Atom] \u001b[38;5;241m=\u001b[39m [v \u001b[38;5;28;01mif\u001b[39;00m \u001b[38;5;28misinstance\u001b[39m(v, Literal) \u001b[38;5;28;01melse\u001b[39;00m var_map[v] \u001b[38;5;28;01mfor\u001b[39;00m v \u001b[38;5;129;01min\u001b[39;00m eqn\u001b[38;5;241m.\u001b[39minvars]\n\u001b[1;32m   2621\u001b[0m \u001b[38;5;28;01mtry\u001b[39;00m:\n\u001b[0;32m-> 2622\u001b[0m   outvars \u001b[38;5;241m=\u001b[39m [subst_axis_names_var(v, subst, var_map) \u001b[38;5;28;01mfor\u001b[39;00m v \u001b[38;5;129;01min\u001b[39;00m eqn\u001b[38;5;241m.\u001b[39moutvars]\n\u001b[1;32m   2623\u001b[0m \u001b[38;5;28;01mexcept\u001b[39;00m DuplicateAxisNameError \u001b[38;5;28;01mas\u001b[39;00m e:\n\u001b[1;32m   2624\u001b[0m   e\u001b[38;5;241m.\u001b[39meqn \u001b[38;5;241m=\u001b[39m eqn\n",
      "File \u001b[0;32m~/Documents/Y4S1/DSA4212/LSTM/.lstmvenv/lib/python3.8/site-packages/jax/_src/core.py:2622\u001b[0m, in \u001b[0;36m<listcomp>\u001b[0;34m(.0)\u001b[0m\n\u001b[1;32m   2620\u001b[0m invars: List[Atom] \u001b[38;5;241m=\u001b[39m [v \u001b[38;5;28;01mif\u001b[39;00m \u001b[38;5;28misinstance\u001b[39m(v, Literal) \u001b[38;5;28;01melse\u001b[39;00m var_map[v] \u001b[38;5;28;01mfor\u001b[39;00m v \u001b[38;5;129;01min\u001b[39;00m eqn\u001b[38;5;241m.\u001b[39minvars]\n\u001b[1;32m   2621\u001b[0m \u001b[38;5;28;01mtry\u001b[39;00m:\n\u001b[0;32m-> 2622\u001b[0m   outvars \u001b[38;5;241m=\u001b[39m [\u001b[43msubst_axis_names_var\u001b[49m\u001b[43m(\u001b[49m\u001b[43mv\u001b[49m\u001b[43m,\u001b[49m\u001b[43m \u001b[49m\u001b[43msubst\u001b[49m\u001b[43m,\u001b[49m\u001b[43m \u001b[49m\u001b[43mvar_map\u001b[49m\u001b[43m)\u001b[49m \u001b[38;5;28;01mfor\u001b[39;00m v \u001b[38;5;129;01min\u001b[39;00m eqn\u001b[38;5;241m.\u001b[39moutvars]\n\u001b[1;32m   2623\u001b[0m \u001b[38;5;28;01mexcept\u001b[39;00m DuplicateAxisNameError \u001b[38;5;28;01mas\u001b[39;00m e:\n\u001b[1;32m   2624\u001b[0m   e\u001b[38;5;241m.\u001b[39meqn \u001b[38;5;241m=\u001b[39m eqn\n",
      "File \u001b[0;32m~/Documents/Y4S1/DSA4212/LSTM/.lstmvenv/lib/python3.8/site-packages/jax/_src/core.py:2615\u001b[0m, in \u001b[0;36msubst_axis_names_var\u001b[0;34m(v, subst, var_map)\u001b[0m\n\u001b[1;32m   2613\u001b[0m \u001b[38;5;28;01mif\u001b[39;00m \u001b[38;5;28mlen\u001b[39m(named_shape) \u001b[38;5;241m!=\u001b[39m \u001b[38;5;28mlen\u001b[39m(names):\n\u001b[1;32m   2614\u001b[0m   \u001b[38;5;28;01mraise\u001b[39;00m DuplicateAxisNameError(v)\n\u001b[0;32m-> 2615\u001b[0m new_v \u001b[38;5;241m=\u001b[39m Var(v\u001b[38;5;241m.\u001b[39mcount, v\u001b[38;5;241m.\u001b[39msuffix, \u001b[43mv\u001b[49m\u001b[38;5;241;43m.\u001b[39;49m\u001b[43maval\u001b[49m\u001b[38;5;241;43m.\u001b[39;49m\u001b[43mupdate\u001b[49m\u001b[43m(\u001b[49m\u001b[43mnamed_shape\u001b[49m\u001b[38;5;241;43m=\u001b[39;49m\u001b[43mnamed_shape\u001b[49m\u001b[43m)\u001b[49m)\n\u001b[1;32m   2616\u001b[0m var_map[v] \u001b[38;5;241m=\u001b[39m new_v\n\u001b[1;32m   2617\u001b[0m \u001b[38;5;28;01mreturn\u001b[39;00m new_v\n",
      "File \u001b[0;32m~/Documents/Y4S1/DSA4212/LSTM/.lstmvenv/lib/python3.8/site-packages/jax/_src/core.py:1522\u001b[0m, in \u001b[0;36mShapedArray.update\u001b[0;34m(self, shape, dtype, weak_type, named_shape)\u001b[0m\n\u001b[1;32m   1520\u001b[0m \u001b[38;5;28;01mif\u001b[39;00m named_shape \u001b[38;5;129;01mis\u001b[39;00m \u001b[38;5;28;01mNone\u001b[39;00m:\n\u001b[1;32m   1521\u001b[0m   named_shape \u001b[38;5;241m=\u001b[39m \u001b[38;5;28mself\u001b[39m\u001b[38;5;241m.\u001b[39mnamed_shape\n\u001b[0;32m-> 1522\u001b[0m \u001b[38;5;28;01mreturn\u001b[39;00m \u001b[43mShapedArray\u001b[49m\u001b[43m(\u001b[49m\u001b[43mshape\u001b[49m\u001b[43m,\u001b[49m\u001b[43m \u001b[49m\u001b[43mdtype\u001b[49m\u001b[43m,\u001b[49m\u001b[43m \u001b[49m\u001b[43mweak_type\u001b[49m\u001b[43m,\u001b[49m\u001b[43m \u001b[49m\u001b[43mnamed_shape\u001b[49m\u001b[43m)\u001b[49m\n",
      "File \u001b[0;32m~/Documents/Y4S1/DSA4212/LSTM/.lstmvenv/lib/python3.8/site-packages/jax/_src/core.py:1508\u001b[0m, in \u001b[0;36mShapedArray.__init__\u001b[0;34m(self, shape, dtype, weak_type, named_shape)\u001b[0m\n\u001b[1;32m   1507\u001b[0m \u001b[38;5;28;01mdef\u001b[39;00m \u001b[38;5;21m__init__\u001b[39m(\u001b[38;5;28mself\u001b[39m, shape, dtype, weak_type\u001b[38;5;241m=\u001b[39m\u001b[38;5;28;01mFalse\u001b[39;00m, named_shape\u001b[38;5;241m=\u001b[39m\u001b[38;5;28;01mNone\u001b[39;00m):\n\u001b[0;32m-> 1508\u001b[0m   \u001b[38;5;28mself\u001b[39m\u001b[38;5;241m.\u001b[39mshape \u001b[38;5;241m=\u001b[39m \u001b[43mcanonicalize_shape\u001b[49m\u001b[43m(\u001b[49m\u001b[43mshape\u001b[49m\u001b[43m)\u001b[49m\n\u001b[1;32m   1509\u001b[0m   \u001b[38;5;28mself\u001b[39m\u001b[38;5;241m.\u001b[39mdtype \u001b[38;5;241m=\u001b[39m _dtype_object(dtype)\n\u001b[1;32m   1510\u001b[0m   \u001b[38;5;28mself\u001b[39m\u001b[38;5;241m.\u001b[39mweak_type \u001b[38;5;241m=\u001b[39m weak_type\n",
      "\u001b[0;31mKeyboardInterrupt\u001b[0m: "
     ]
    }
   ],
   "source": [
    "# perform training\n",
    "lr = 0.001\n",
    "n_epochs = 100\n",
    "batch_size = 100\n",
    "n_batches = N // batch_size\n",
    "\n",
    "\n",
    "# store losses\n",
    "train_losses = []\n",
    "validation_losses = []\n",
    "test_losses = []\n",
    "\n",
    "# initial hidden and cell states\n",
    "params = params_init.copy()\n",
    "h0 = h0_init.copy()\n",
    "c0 = c0_init.copy()\n",
    "\n",
    "# reshape train_X to train_y to calc losses\n",
    "convert_t_x = train_X.reshape(N, sequence_length, input_size) # dim = (N, L, F)\n",
    "convert_t_y = train_y.reshape(N, sequence_length, output_size) # dim = (N, L, O)\n",
    "\n",
    "# reshape validate_X to validate_y to calc validation losses\n",
    "convert_v_x = validate_X.reshape(validate_X.shape[0], sequence_length, input_size) # dim = (N, L, F)\n",
    "convert_v_y = validate_y.reshape(validate_y.shape[0], sequence_length, output_size) # dim = (N, O)\n",
    "\n",
    "# train the model\n",
    "for epoch in tqdm(range(n_epochs)):\n",
    "    # start time\n",
    "    start = time.time()\n",
    "for i in tqdm(range(5)):\n",
    "    # start timing\n",
    "    start = time.time()\n",
    "\n",
    "    # extract input and output from train_X and train_y\n",
    "    # train_X dim = (N, L, F), x[i] dim = (L, F) but we need (L, B, F)\n",
    "    x = train_X[i].reshape(sequence_length, batch_size, input_size)\n",
    "    # train_y dim = (N, L, 0), y[i] dim = (L, 0) but we need (L*B, 0)\n",
    "    y = train_y[i].reshape(sequence_length*batch_size, output_size)    \n",
    "\n",
    "    # calculate the loss\n",
    "    # train\n",
    "    train_loss = loss(params, convert_t_x, convert_t_y, h0[0], c0[0])\n",
    "    train_losses.append(train_loss)\n",
    "    # validate\n",
    "    validation_loss = loss(params, convert_v_x, convert_v_y, h0[0], c0[0])\n",
    "    validation_losses.append(validation_loss)\n",
    "\n",
    "    # update the parameters\n",
    "    params = update(params, convert_t_x, convert_t_y, h0[0], c0[0])\n",
    "    \n",
    "    # end timing\n",
    "    end = time.time()\n",
    "\n",
    "    # print the loss and time taken\n",
    "    if i % 1 == 0:\n",
    "        print(f'Iter {i+1}/{N} \\tLoss: {train_loss} \\tTime: {end-start}')"
   ]
  },
  {
   "cell_type": "code",
   "execution_count": null,
   "metadata": {},
   "outputs": [],
   "source": [
    "# plot loss\n",
    "plt.plot(train_losses)\n",
    "plt.show()"
   ]
  },
  {
   "cell_type": "code",
   "execution_count": null,
   "metadata": {},
   "outputs": [],
   "source": [
    "# generate predictions\n",
    "def predict(params, X, h0, c0):\n",
    "    y_pred = LSTMModel(params, X, h0, c0)\n",
    "    return y_pred # dim = (B*L, O)\n",
    "\n",
    "# generate predictions on validation set\n",
    "# reshape like --> x = train_X[i].reshape(sequence_length, batch_size, input_size)\n",
    "V = len(validate_X)\n",
    "v_y_true = validate_y\n",
    "v_y_preds = []\n",
    "for i in range(V):\n",
    "    x = validate_X[i].reshape(sequence_length, batch_size, input_size)\n",
    "    # here, only the last element is needed\n",
    "    v_y_pred = predict(params, x, h0[0], c0[0])\n",
    "    v_y_preds.append(v_y_pred)\n",
    "\n",
    "# convert to numpy array\n",
    "v_y_preds = np.array(v_y_preds)\n",
    "\n",
    "# plot the predictions against actual, predicted values as red, original as blue\n",
    "plt.plot(v_y_true, label='True')\n",
    "plt.plot(v_y_preds, label='Predicted')\n",
    "plt.legend()\n",
    "plt.show()"
   ]
  },
  {
   "cell_type": "code",
   "execution_count": null,
   "metadata": {},
   "outputs": [],
   "source": [
    "# predict on test set\n",
    "T = len(test_X)\n",
    "y_true = test_y\n",
    "y_preds = []\n",
    "for i in range(T):\n",
    "    x = test_X[i].reshape(sequence_length, batch_size, input_size)\n",
    "    # here, only the last element is needed\n",
    "    y_pred = predict(params, x, h0[0], c0[0])\n",
    "    y_preds.append(y_pred[-1])\n",
    "\n",
    "# convert to numpy array\n",
    "y_preds = np.array(y_preds)\n",
    "\n",
    "# plot the predictions against actual, predicted values as red, original as blue\n",
    "plt.plot(y_true, label='True')\n",
    "plt.plot(y_preds, label='Predicted')\n",
    "plt.legend()\n",
    "plt.show()"
   ]
  },
  {
   "cell_type": "code",
   "execution_count": null,
   "metadata": {},
   "outputs": [],
   "source": []
  }
 ],
 "metadata": {
  "kernelspec": {
   "display_name": ".lstmvenv",
   "language": "python",
   "name": "python3"
  },
  "language_info": {
   "codemirror_mode": {
    "name": "ipython",
    "version": 3
   },
   "file_extension": ".py",
   "mimetype": "text/x-python",
   "name": "python",
   "nbconvert_exporter": "python",
   "pygments_lexer": "ipython3",
   "version": "3.8.5"
  }
 },
 "nbformat": 4,
 "nbformat_minor": 2
}
