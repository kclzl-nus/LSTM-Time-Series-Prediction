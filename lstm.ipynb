{
 "cells": [
  {
   "cell_type": "markdown",
   "metadata": {},
   "source": [
    "# Build LSTM From Scratch\n",
    "\n",
    "1. LSTM Unit\n",
    "2. LSTM Layer\n",
    "3. LSTM Network"
   ]
  },
  {
   "cell_type": "code",
   "execution_count": 1,
   "metadata": {},
   "outputs": [],
   "source": [
    "# import relevant libraries\n",
    "import numpy as np\n",
    "import torch\n",
    "import torch.nn as nn"
   ]
  },
  {
   "cell_type": "markdown",
   "metadata": {},
   "source": [
    "### Single LSTM Cell"
   ]
  },
  {
   "cell_type": "code",
   "execution_count": 2,
   "metadata": {},
   "outputs": [],
   "source": [
    "# define sigmoid function\n",
    "def sigmoid(x):\n",
    "    return 1 / (1 + np.exp(-x))\n",
    "\n",
    "# define tanh function\n",
    "def tanh(x):\n",
    "    return np.tanh(x)"
   ]
  },
  {
   "cell_type": "code",
   "execution_count": 3,
   "metadata": {},
   "outputs": [],
   "source": [
    "# define a single LSTM Unit\n",
    "def LSTMUnit(x, h, c, W_hh, W_ih, b):\n",
    "    \"\"\"\n",
    "    Input\n",
    "    x: np array of shape (batch_size, input_size)\n",
    "    h: np array of shape (batch_size, hidden_size)\n",
    "    c: np array of shape (batch_size, hidden_size)\n",
    "    W_hh: np array of shape (4 * hidden_size, hidden_size)\n",
    "    W_ih: np array of shape (4 * hidden_size, input_size)\n",
    "    b: np array of shape (4 * hidden_size)\n",
    "    \"\"\"\n",
    "    # generate the inputs to forget gate, input gate, candidate gate, and output gate\n",
    "    i, f, g, o = np.split(W_hh@h + W_ih@x + b, 4)\n",
    "    i, f, g, o = sigmoid(i), sigmoid(f), tanh(g), sigmoid(o)\n",
    "    c_out = f*c + i*g\n",
    "    h_out = o * tanh(c_out)\n",
    "    return h_out, c_out"
   ]
  },
  {
   "cell_type": "code",
   "execution_count": 21,
   "metadata": {},
   "outputs": [],
   "source": [
    "# define the model\n",
    "batch_size = 1\n",
    "input_size = 20\n",
    "hidden_size = 100\n",
    "model = nn.LSTMCell(20, 100)"
   ]
  },
  {
   "cell_type": "code",
   "execution_count": 22,
   "metadata": {},
   "outputs": [],
   "source": [
    "# verify that LSTMUnit is working correctly\n",
    "x = np.random.randn(1, 20).astype(np.float32)\n",
    "h0 = np.random.randn(1, 100).astype(np.float32)\n",
    "c0 = np.random.randn(1, 100).astype(np.float32)\n",
    "\n",
    "h_, c_ = model(torch.tensor(x)), (torch.tensor(h0), torch.tensor(c0))\n",
    "\n",
    "h, c = LSTMUnit(x[0], h0[0], c0[0],\n",
    "                model.weight_hh.detach().numpy(),\n",
    "                model.weight_ih.detach().numpy(),\n",
    "                (model.bias_hh + model.bias_ih).detach().numpy())"
   ]
  },
  {
   "cell_type": "code",
   "execution_count": 23,
   "metadata": {},
   "outputs": [
    {
     "data": {
      "text/plain": [
       "2.4048018"
      ]
     },
     "execution_count": 23,
     "metadata": {},
     "output_type": "execute_result"
    }
   ],
   "source": [
    "np.linalg.norm(h_[0].detach().numpy() - h)"
   ]
  },
  {
   "cell_type": "markdown",
   "metadata": {},
   "source": [
    "### LSTM Layer"
   ]
  },
  {
   "cell_type": "code",
   "execution_count": 24,
   "metadata": {},
   "outputs": [],
   "source": [
    "model = nn.LSTM(input_size, hidden_size)"
   ]
  },
  {
   "cell_type": "code",
   "execution_count": 28,
   "metadata": {},
   "outputs": [],
   "source": [
    "# define the model\n",
    "batch_size = 50 # 50 sequeces\n",
    "input_size = 20\n",
    "hidden_size = 100\n",
    "X = np.random.randn(batch_size, input_size).astype(np.float32)\n",
    "h0 = np.random.randn(1, hidden_size).astype(np.float32)\n",
    "c0 = np.random.randn(1, hidden_size).astype(np.float32)"
   ]
  },
  {
   "cell_type": "code",
   "execution_count": 29,
   "metadata": {},
   "outputs": [],
   "source": [
    "def LSTMLayer(X, h, c, W_hh, W_ih, b):\n",
    "    H = np.zeros((X.shape[0], h.shape[0]))\n",
    "    for t in range(X.shape[0]):\n",
    "        h, c = LSTMUnit(X[t], h, c, W_hh, W_ih, b)\n",
    "        H[t] = h\n",
    "    return H, c"
   ]
  },
  {
   "cell_type": "code",
   "execution_count": 31,
   "metadata": {},
   "outputs": [],
   "source": [
    "H, cn = LSTMLayer(X, h0[0], c0[0],\n",
    "                model.weight_hh_l0.detach().numpy(),\n",
    "                model.weight_ih_l0.detach().numpy(),\n",
    "                (model.bias_hh_l0 + model.bias_ih_l0).detach().numpy())"
   ]
  },
  {
   "cell_type": "code",
   "execution_count": 33,
   "metadata": {},
   "outputs": [],
   "source": [
    "H_, (hn, cn) = model(torch.tensor(X)[:, None, :],\n",
    "                     (torch.tensor(h0)[:, None, :],\n",
    "                      torch.tensor(c0)[:, None, :]))"
   ]
  },
  {
   "cell_type": "code",
   "execution_count": 34,
   "metadata": {},
   "outputs": [
    {
     "data": {
      "text/plain": [
       "1.4628261130620635e-06"
      ]
     },
     "execution_count": 34,
     "metadata": {},
     "output_type": "execute_result"
    }
   ],
   "source": [
    "np.linalg.norm(H - H_[:, 0, :].detach().numpy())"
   ]
  },
  {
   "cell_type": "markdown",
   "metadata": {},
   "source": [
    "#### Batching"
   ]
  },
  {
   "cell_type": "code",
   "execution_count": 35,
   "metadata": {},
   "outputs": [],
   "source": [
    "# define a single LSTM Unit\n",
    "def LSTMUnit(x, h, c, W_hh, W_ih, b):\n",
    "    \"\"\"\n",
    "    Input\n",
    "    x: np array of shape (batch_size, input_size)\n",
    "    h: np array of shape (batch_size, hidden_size)\n",
    "    c: np array of shape (batch_size, hidden_size)\n",
    "    W_hh: np array of shape (4 * hidden_size, hidden_size)\n",
    "    W_ih: np array of shape (4 * hidden_size, input_size)\n",
    "    b: np array of shape (4 * hidden_size)\n",
    "    \"\"\"\n",
    "    # generate the inputs to forget gate, input gate, candidate gate, and output gate\n",
    "    i, f, g, o = np.split(h @ W_hh + x @ W_ih + b, 4, axis=1) # now first dim is batch dim, second dim is hidden dim\n",
    "    i, f, g, o = sigmoid(i), sigmoid(f), tanh(g), sigmoid(o)\n",
    "    c_out = f*c + i*g\n",
    "    h_out = o * tanh(c_out)\n",
    "    return h_out, c_out\n",
    "\n",
    "def LSTMLayer(X, h, c, W_hh, W_ih, b):\n",
    "    H = np.zeros((X.shape[0], X.shape[1], h.shape[1]))\n",
    "    for t in range(X.shape[0]):\n",
    "        h, c = LSTMUnit(X[t], h, c, W_hh, W_ih, b)\n",
    "        H[t] = h\n",
    "    return H, c"
   ]
  },
  {
   "cell_type": "code",
   "execution_count": 45,
   "metadata": {},
   "outputs": [],
   "source": [
    "# define the model\n",
    "batch_size = 128\n",
    "sequence_length = 50\n",
    "input_size = 20\n",
    "hidden_size = 100\n",
    "X = np.random.randn(sequence_length, batch_size, input_size).astype(np.float32)\n",
    "h0 = np.random.randn(1, batch_size, hidden_size).astype(np.float32)\n",
    "c0 = np.random.randn(1, batch_size, hidden_size).astype(np.float32)"
   ]
  },
  {
   "cell_type": "code",
   "execution_count": 46,
   "metadata": {},
   "outputs": [],
   "source": [
    "H_, (hn, cn) = model(torch.tensor(X),\n",
    "                     (torch.tensor(h0),\n",
    "                      torch.tensor(c0)))"
   ]
  },
  {
   "cell_type": "code",
   "execution_count": 47,
   "metadata": {},
   "outputs": [
    {
     "data": {
      "text/plain": [
       "torch.Size([50, 128, 100])"
      ]
     },
     "execution_count": 47,
     "metadata": {},
     "output_type": "execute_result"
    }
   ],
   "source": [
    "H_.shape"
   ]
  },
  {
   "cell_type": "code",
   "execution_count": 48,
   "metadata": {},
   "outputs": [],
   "source": [
    "H, cn = LSTMLayer(X, h0[0], c0[0],\n",
    "                model.weight_hh_l0.detach().numpy().T,\n",
    "                model.weight_ih_l0.detach().numpy().T,\n",
    "                (model.bias_hh_l0 + model.bias_ih_l0).detach().numpy())"
   ]
  },
  {
   "cell_type": "code",
   "execution_count": 49,
   "metadata": {},
   "outputs": [
    {
     "data": {
      "text/plain": [
       "9.93722142209323e-06"
      ]
     },
     "execution_count": 49,
     "metadata": {},
     "output_type": "execute_result"
    }
   ],
   "source": [
    "np.linalg.norm(H-H_.detach().numpy())"
   ]
  }
 ],
 "metadata": {
  "kernelspec": {
   "display_name": ".lstmvenv",
   "language": "python",
   "name": "python3"
  },
  "language_info": {
   "codemirror_mode": {
    "name": "ipython",
    "version": 3
   },
   "file_extension": ".py",
   "mimetype": "text/x-python",
   "name": "python",
   "nbconvert_exporter": "python",
   "pygments_lexer": "ipython3",
   "version": "3.8.5"
  }
 },
 "nbformat": 4,
 "nbformat_minor": 2
}
